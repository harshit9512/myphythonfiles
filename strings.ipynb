{
 "cells": [
  {
   "cell_type": "code",
   "execution_count": 2,
   "id": "d518d24c",
   "metadata": {},
   "outputs": [
    {
     "data": {
      "text/plain": [
       "'hello'"
      ]
     },
     "execution_count": 2,
     "metadata": {},
     "output_type": "execute_result"
    }
   ],
   "source": [
    "'hello'"
   ]
  },
  {
   "cell_type": "code",
   "execution_count": 3,
   "id": "0965292a",
   "metadata": {},
   "outputs": [
    {
     "data": {
      "text/plain": [
       "'hello'"
      ]
     },
     "execution_count": 3,
     "metadata": {},
     "output_type": "execute_result"
    }
   ],
   "source": [
    "\"hello\""
   ]
  },
  {
   "cell_type": "code",
   "execution_count": 4,
   "id": "9de96e05",
   "metadata": {},
   "outputs": [
    {
     "data": {
      "text/plain": [
       "\"this isn't printing the sting, its just showing the output of cell\""
      ]
     },
     "execution_count": 4,
     "metadata": {},
     "output_type": "execute_result"
    }
   ],
   "source": [
    "\"this isn't printing the sting, its just showing the output of cell\""
   ]
  },
  {
   "cell_type": "markdown",
   "id": "4c76e47b",
   "metadata": {},
   "source": [
    "To print we have to use print() function"
   ]
  },
  {
   "cell_type": "code",
   "execution_count": 5,
   "id": "a8f8dcf6",
   "metadata": {},
   "outputs": [
    {
     "name": "stdout",
     "output_type": "stream",
     "text": [
      "hello\n"
     ]
    }
   ],
   "source": [
    "print(\"hello\")"
   ]
  },
  {
   "cell_type": "code",
   "execution_count": 6,
   "id": "e6d53ddc",
   "metadata": {},
   "outputs": [
    {
     "data": {
      "text/plain": [
       "\"what's up\""
      ]
     },
     "execution_count": 6,
     "metadata": {},
     "output_type": "execute_result"
    }
   ],
   "source": [
    "\"hello\"\n",
    "\"what's up\""
   ]
  },
  {
   "cell_type": "markdown",
   "id": "46e3f639",
   "metadata": {},
   "source": [
    "cell outputs give the output for last line in cell"
   ]
  },
  {
   "cell_type": "code",
   "execution_count": 7,
   "id": "0ac74411",
   "metadata": {},
   "outputs": [
    {
     "data": {
      "text/plain": [
       "3"
      ]
     },
     "execution_count": 7,
     "metadata": {},
     "output_type": "execute_result"
    }
   ],
   "source": [
    "5+2\n",
    "2+1"
   ]
  },
  {
   "cell_type": "markdown",
   "id": "1dd234cb",
   "metadata": {},
   "source": [
    "len() function"
   ]
  },
  {
   "cell_type": "code",
   "execution_count": 8,
   "id": "b9f714cf",
   "metadata": {},
   "outputs": [
    {
     "data": {
      "text/plain": [
       "5"
      ]
     },
     "execution_count": 8,
     "metadata": {},
     "output_type": "execute_result"
    }
   ],
   "source": [
    "len(\"hello\")"
   ]
  },
  {
   "cell_type": "code",
   "execution_count": 9,
   "id": "fea5e750",
   "metadata": {},
   "outputs": [],
   "source": [
    "hello=\"hello\""
   ]
  },
  {
   "cell_type": "code",
   "execution_count": 10,
   "id": "72461314",
   "metadata": {},
   "outputs": [
    {
     "data": {
      "text/plain": [
       "5"
      ]
     },
     "execution_count": 10,
     "metadata": {},
     "output_type": "execute_result"
    }
   ],
   "source": [
    "len(hello)"
   ]
  },
  {
   "cell_type": "code",
   "execution_count": null,
   "id": "9202f0dd",
   "metadata": {},
   "outputs": [],
   "source": []
  }
 ],
 "metadata": {
  "kernelspec": {
   "display_name": "Python 3",
   "language": "python",
   "name": "python3"
  },
  "language_info": {
   "codemirror_mode": {
    "name": "ipython",
    "version": 3
   },
   "file_extension": ".py",
   "mimetype": "text/x-python",
   "name": "python",
   "nbconvert_exporter": "python",
   "pygments_lexer": "ipython3",
   "version": "3.8.8"
  }
 },
 "nbformat": 4,
 "nbformat_minor": 5
}
