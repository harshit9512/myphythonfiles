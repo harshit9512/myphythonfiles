{
 "cells": [
  {
   "cell_type": "code",
   "execution_count": 2,
   "id": "ccf68285",
   "metadata": {},
   "outputs": [],
   "source": [
    "a=\"harshit\""
   ]
  },
  {
   "cell_type": "code",
   "execution_count": 2,
   "id": "7606f569",
   "metadata": {},
   "outputs": [
    {
     "data": {
      "text/plain": [
       "'harshit'"
      ]
     },
     "execution_count": 2,
     "metadata": {},
     "output_type": "execute_result"
    }
   ],
   "source": [
    "a"
   ]
  },
  {
   "cell_type": "code",
   "execution_count": 3,
   "id": "ad5a3c53",
   "metadata": {},
   "outputs": [
    {
     "data": {
      "text/plain": [
       "'r'"
      ]
     },
     "execution_count": 3,
     "metadata": {},
     "output_type": "execute_result"
    }
   ],
   "source": [
    "a[2]"
   ]
  },
  {
   "cell_type": "code",
   "execution_count": 4,
   "id": "cf4e688d",
   "metadata": {},
   "outputs": [
    {
     "data": {
      "text/plain": [
       "'h'"
      ]
     },
     "execution_count": 4,
     "metadata": {},
     "output_type": "execute_result"
    }
   ],
   "source": [
    "a[0]"
   ]
  },
  {
   "cell_type": "code",
   "execution_count": 5,
   "id": "0926dfcd",
   "metadata": {},
   "outputs": [
    {
     "data": {
      "text/plain": [
       "'t'"
      ]
     },
     "execution_count": 5,
     "metadata": {},
     "output_type": "execute_result"
    }
   ],
   "source": [
    "a[-1]"
   ]
  },
  {
   "cell_type": "code",
   "execution_count": 6,
   "id": "2be2dd13",
   "metadata": {},
   "outputs": [
    {
     "data": {
      "text/plain": [
       "'arshit'"
      ]
     },
     "execution_count": 6,
     "metadata": {},
     "output_type": "execute_result"
    }
   ],
   "source": [
    "a[1:]"
   ]
  },
  {
   "cell_type": "code",
   "execution_count": 7,
   "id": "e0800f19",
   "metadata": {},
   "outputs": [
    {
     "data": {
      "text/plain": [
       "'hit'"
      ]
     },
     "execution_count": 7,
     "metadata": {},
     "output_type": "execute_result"
    }
   ],
   "source": [
    "a[4:]"
   ]
  },
  {
   "cell_type": "code",
   "execution_count": 8,
   "id": "ac659a96",
   "metadata": {},
   "outputs": [
    {
     "data": {
      "text/plain": [
       "'shit'"
      ]
     },
     "execution_count": 8,
     "metadata": {},
     "output_type": "execute_result"
    }
   ],
   "source": [
    "a[3:]"
   ]
  },
  {
   "cell_type": "code",
   "execution_count": 9,
   "id": "8d7b7aa0",
   "metadata": {},
   "outputs": [
    {
     "data": {
      "text/plain": [
       "'harshit'"
      ]
     },
     "execution_count": 9,
     "metadata": {},
     "output_type": "execute_result"
    }
   ],
   "source": [
    "a"
   ]
  },
  {
   "cell_type": "code",
   "execution_count": 10,
   "id": "409c22f1",
   "metadata": {},
   "outputs": [
    {
     "data": {
      "text/plain": [
       "'tihsrah'"
      ]
     },
     "execution_count": 10,
     "metadata": {},
     "output_type": "execute_result"
    }
   ],
   "source": [
    "a[-1::-1]"
   ]
  },
  {
   "cell_type": "code",
   "execution_count": 11,
   "id": "9576a391",
   "metadata": {},
   "outputs": [
    {
     "data": {
      "text/plain": [
       "'tihsrah'"
      ]
     },
     "execution_count": 11,
     "metadata": {},
     "output_type": "execute_result"
    }
   ],
   "source": [
    "a[::-1]"
   ]
  },
  {
   "cell_type": "code",
   "execution_count": 5,
   "id": "c84b053f",
   "metadata": {},
   "outputs": [
    {
     "data": {
      "text/plain": [
       "'rh'"
      ]
     },
     "execution_count": 5,
     "metadata": {},
     "output_type": "execute_result"
    }
   ],
   "source": [
    "a[2:5:2]"
   ]
  },
  {
   "cell_type": "code",
   "execution_count": 3,
   "id": "f6a57a23",
   "metadata": {},
   "outputs": [
    {
     "data": {
      "text/plain": [
       "'harshit'"
      ]
     },
     "execution_count": 3,
     "metadata": {},
     "output_type": "execute_result"
    }
   ],
   "source": [
    "a"
   ]
  },
  {
   "cell_type": "code",
   "execution_count": 4,
   "id": "68b86710",
   "metadata": {},
   "outputs": [
    {
     "data": {
      "text/plain": [
       "'rh'"
      ]
     },
     "execution_count": 4,
     "metadata": {},
     "output_type": "execute_result"
    }
   ],
   "source": [
    "a[2:5:2]"
   ]
  },
  {
   "cell_type": "code",
   "execution_count": 6,
   "id": "48bd55b6",
   "metadata": {},
   "outputs": [],
   "source": [
    "x='my name is harshit shankhdhar'"
   ]
  },
  {
   "cell_type": "code",
   "execution_count": 7,
   "id": "9d1c3964",
   "metadata": {},
   "outputs": [
    {
     "data": {
      "text/plain": [
       "'my name is harshit shankhdhar'"
      ]
     },
     "execution_count": 7,
     "metadata": {},
     "output_type": "execute_result"
    }
   ],
   "source": [
    "x"
   ]
  },
  {
   "cell_type": "code",
   "execution_count": 8,
   "id": "cca34401",
   "metadata": {},
   "outputs": [
    {
     "data": {
      "text/plain": [
       "'ynm shrhts'"
      ]
     },
     "execution_count": 8,
     "metadata": {},
     "output_type": "execute_result"
    }
   ],
   "source": [
    "x[1:20:2]"
   ]
  },
  {
   "cell_type": "code",
   "execution_count": 1,
   "id": "333b5902",
   "metadata": {},
   "outputs": [],
   "source": [
    "z=\"samyak\""
   ]
  },
  {
   "cell_type": "code",
   "execution_count": 3,
   "id": "ea0cdce6",
   "metadata": {},
   "outputs": [
    {
     "data": {
      "text/plain": [
       "'kaymas'"
      ]
     },
     "execution_count": 3,
     "metadata": {},
     "output_type": "execute_result"
    }
   ],
   "source": [
    "z[::-1]"
   ]
  },
  {
   "cell_type": "code",
   "execution_count": 4,
   "id": "3aa2eb4f",
   "metadata": {},
   "outputs": [
    {
     "data": {
      "text/plain": [
       "'samyak'"
      ]
     },
     "execution_count": 4,
     "metadata": {},
     "output_type": "execute_result"
    }
   ],
   "source": [
    "z"
   ]
  },
  {
   "cell_type": "code",
   "execution_count": 5,
   "id": "c8da149b",
   "metadata": {},
   "outputs": [
    {
     "data": {
      "text/plain": [
       "'sam'"
      ]
     },
     "execution_count": 5,
     "metadata": {},
     "output_type": "execute_result"
    }
   ],
   "source": [
    "z[0:3]"
   ]
  },
  {
   "cell_type": "code",
   "execution_count": 6,
   "id": "176be759",
   "metadata": {},
   "outputs": [
    {
     "data": {
      "text/plain": [
       "'sma'"
      ]
     },
     "execution_count": 6,
     "metadata": {},
     "output_type": "execute_result"
    }
   ],
   "source": [
    "z[0:5:2]"
   ]
  },
  {
   "cell_type": "code",
   "execution_count": 7,
   "id": "49c8583b",
   "metadata": {},
   "outputs": [
    {
     "data": {
      "text/plain": [
       "'kaymas'"
      ]
     },
     "execution_count": 7,
     "metadata": {},
     "output_type": "execute_result"
    }
   ],
   "source": [
    "z[-1::-1]"
   ]
  },
  {
   "cell_type": "code",
   "execution_count": 8,
   "id": "0e19aab0",
   "metadata": {},
   "outputs": [
    {
     "data": {
      "text/plain": [
       "'kaymas'"
      ]
     },
     "execution_count": 8,
     "metadata": {},
     "output_type": "execute_result"
    }
   ],
   "source": [
    "z[::-1]"
   ]
  },
  {
   "cell_type": "code",
   "execution_count": null,
   "id": "20b91e67",
   "metadata": {},
   "outputs": [],
   "source": []
  }
 ],
 "metadata": {
  "kernelspec": {
   "display_name": "Python 3",
   "language": "python",
   "name": "python3"
  },
  "language_info": {
   "codemirror_mode": {
    "name": "ipython",
    "version": 3
   },
   "file_extension": ".py",
   "mimetype": "text/x-python",
   "name": "python",
   "nbconvert_exporter": "python",
   "pygments_lexer": "ipython3",
   "version": "3.8.8"
  }
 },
 "nbformat": 4,
 "nbformat_minor": 5
}
