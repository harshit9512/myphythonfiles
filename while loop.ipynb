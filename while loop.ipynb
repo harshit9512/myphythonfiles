{
 "cells": [
  {
   "cell_type": "code",
   "execution_count": 1,
   "id": "e60b13db",
   "metadata": {},
   "outputs": [],
   "source": [
    "num=1"
   ]
  },
  {
   "cell_type": "code",
   "execution_count": 2,
   "id": "ec612efa",
   "metadata": {},
   "outputs": [
    {
     "name": "stdout",
     "output_type": "stream",
     "text": [
      "1\n",
      "2\n",
      "3\n",
      "4\n",
      "5\n",
      "6\n",
      "7\n",
      "8\n",
      "9\n",
      "10\n"
     ]
    }
   ],
   "source": [
    "while num<=10:\n",
    "    print(num)\n",
    "    num = num+1"
   ]
  },
  {
   "cell_type": "markdown",
   "id": "d558484f",
   "metadata": {},
   "source": [
    "**while with else**"
   ]
  },
  {
   "cell_type": "code",
   "execution_count": 3,
   "id": "43ad5f45",
   "metadata": {},
   "outputs": [],
   "source": [
    "num=33"
   ]
  },
  {
   "cell_type": "code",
   "execution_count": 6,
   "id": "6b58affe",
   "metadata": {},
   "outputs": [
    {
     "name": "stdout",
     "output_type": "stream",
     "text": [
      "while not executed,condition false.\n"
     ]
    }
   ],
   "source": [
    "while num<30:\n",
    "    print(\"hello\")\n",
    "    print(num)\n",
    "    num+=1\n",
    "else:\n",
    "    print(\"while not executed,condition false.\")\n",
    "    "
   ]
  },
  {
   "cell_type": "code",
   "execution_count": null,
   "id": "572fd551",
   "metadata": {},
   "outputs": [],
   "source": []
  }
 ],
 "metadata": {
  "kernelspec": {
   "display_name": "Python 3",
   "language": "python",
   "name": "python3"
  },
  "language_info": {
   "codemirror_mode": {
    "name": "ipython",
    "version": 3
   },
   "file_extension": ".py",
   "mimetype": "text/x-python",
   "name": "python",
   "nbconvert_exporter": "python",
   "pygments_lexer": "ipython3",
   "version": "3.8.8"
  }
 },
 "nbformat": 4,
 "nbformat_minor": 5
}
