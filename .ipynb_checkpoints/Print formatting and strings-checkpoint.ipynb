{
 "cells": [
  {
   "cell_type": "code",
   "execution_count": 1,
   "id": "a90e8c88",
   "metadata": {},
   "outputs": [],
   "source": [
    "name='harshit shankhdhar'"
   ]
  },
  {
   "cell_type": "code",
   "execution_count": 2,
   "id": "e5eca10a",
   "metadata": {},
   "outputs": [
    {
     "name": "stdout",
     "output_type": "stream",
     "text": [
      "harshit shankhdhar\n"
     ]
    }
   ],
   "source": [
    "print(name)"
   ]
  },
  {
   "cell_type": "code",
   "execution_count": 3,
   "id": "d95e978b",
   "metadata": {},
   "outputs": [
    {
     "name": "stdout",
     "output_type": "stream",
     "text": [
      "name\n"
     ]
    }
   ],
   "source": [
    "print('name')"
   ]
  },
  {
   "cell_type": "code",
   "execution_count": 4,
   "id": "02c5a494",
   "metadata": {},
   "outputs": [
    {
     "name": "stdout",
     "output_type": "stream",
     "text": [
      "my name is harshit shankhdhar\n"
     ]
    }
   ],
   "source": [
    "print('my name is harshit shankhdhar')"
   ]
  },
  {
   "cell_type": "code",
   "execution_count": 6,
   "id": "1b21e30b",
   "metadata": {},
   "outputs": [
    {
     "name": "stdout",
     "output_type": "stream",
     "text": [
      "my name is harshit shankhdhar\n"
     ]
    }
   ],
   "source": [
    "print(\"my name is \"+ name)"
   ]
  },
  {
   "cell_type": "code",
   "execution_count": 9,
   "id": "15145eb0",
   "metadata": {},
   "outputs": [
    {
     "name": "stdout",
     "output_type": "stream",
     "text": [
      "yeah! yeah! yeah! harshit shankhdhar is a genius\n"
     ]
    }
   ],
   "source": [
    "print('yeah! '*3+name+ ' is a genius')"
   ]
  },
  {
   "cell_type": "code",
   "execution_count": 12,
   "id": "21c24e68",
   "metadata": {},
   "outputs": [
    {
     "name": "stdout",
     "output_type": "stream",
     "text": [
      "Hello! my name is harshit shankhdhar and I'm doing great\n"
     ]
    }
   ],
   "source": [
    "print('Hello! my name is '+name+ \" and I'm doing great\")"
   ]
  },
  {
   "cell_type": "markdown",
   "id": "1ce2f988",
   "metadata": {},
   "source": [
    ".format() method(function) and f-string method."
   ]
  },
  {
   "cell_type": "code",
   "execution_count": 34,
   "id": "c6b62c31",
   "metadata": {},
   "outputs": [
    {
     "data": {
      "text/plain": [
       "\"hello my name is Harshit Shankhdhar and I'm doing great\""
      ]
     },
     "execution_count": 34,
     "metadata": {},
     "output_type": "execute_result"
    }
   ],
   "source": [
    "\"hello my name is {} and I'm doing great\".format('Harshit Shankhdhar')"
   ]
  },
  {
   "cell_type": "code",
   "execution_count": 17,
   "id": "388360e1",
   "metadata": {},
   "outputs": [
    {
     "name": "stdout",
     "output_type": "stream",
     "text": [
      "lion is the name of a white Snow\n"
     ]
    }
   ],
   "source": [
    "print(\"{} is the name of a {} {}\".format('lion','white','Snow'))"
   ]
  },
  {
   "cell_type": "code",
   "execution_count": 18,
   "id": "91def7d4",
   "metadata": {},
   "outputs": [
    {
     "name": "stdout",
     "output_type": "stream",
     "text": [
      "Snow is the name of a white lion\n"
     ]
    }
   ],
   "source": [
    "print(\"{2} is the name of a {1} {0}\".format('lion','white','Snow'))"
   ]
  },
  {
   "cell_type": "code",
   "execution_count": 20,
   "id": "4c77a855",
   "metadata": {},
   "outputs": [
    {
     "name": "stdout",
     "output_type": "stream",
     "text": [
      "snow is the name of a white lion\n"
     ]
    }
   ],
   "source": [
    "print(\"{s} is the name of a {w} {l}\".format(l='lion',s='snow',w='white'))"
   ]
  },
  {
   "cell_type": "markdown",
   "id": "bdd80c5d",
   "metadata": {},
   "source": [
    "-float formatting is used to adjust width and precision of the float value inserted in the string"
   ]
  },
  {
   "cell_type": "code",
   "execution_count": 21,
   "id": "3655d06d",
   "metadata": {},
   "outputs": [],
   "source": [
    "number=10/77"
   ]
  },
  {
   "cell_type": "code",
   "execution_count": 22,
   "id": "6ddb1daa",
   "metadata": {
    "scrolled": true
   },
   "outputs": [
    {
     "data": {
      "text/plain": [
       "0.12987012987012986"
      ]
     },
     "execution_count": 22,
     "metadata": {},
     "output_type": "execute_result"
    }
   ],
   "source": [
    "number"
   ]
  },
  {
   "cell_type": "code",
   "execution_count": 35,
   "id": "6de0a2dc",
   "metadata": {},
   "outputs": [
    {
     "data": {
      "text/plain": [
       "'the float value is 0.12987'"
      ]
     },
     "execution_count": 35,
     "metadata": {},
     "output_type": "execute_result"
    }
   ],
   "source": [
    "'the float value is {n:1.5f}'.format(n=number)"
   ]
  },
  {
   "cell_type": "code",
   "execution_count": 23,
   "id": "42e3d397",
   "metadata": {},
   "outputs": [
    {
     "name": "stdout",
     "output_type": "stream",
     "text": [
      "the float value is 0.12987012987012986\n"
     ]
    }
   ],
   "source": [
    "print('the float value is {}'.format(number))"
   ]
  },
  {
   "cell_type": "code",
   "execution_count": 24,
   "id": "479a1bd3",
   "metadata": {},
   "outputs": [
    {
     "name": "stdout",
     "output_type": "stream",
     "text": [
      "the float value is 0.12987012987012986\n"
     ]
    }
   ],
   "source": [
    "print('the float value is {n}'.format(n=number))"
   ]
  },
  {
   "cell_type": "markdown",
   "id": "3a0e693c",
   "metadata": {},
   "source": [
    "Syntax for float formatting is {value:width.precisionf} eg. below"
   ]
  },
  {
   "cell_type": "code",
   "execution_count": 28,
   "id": "de445d04",
   "metadata": {},
   "outputs": [
    {
     "name": "stdout",
     "output_type": "stream",
     "text": [
      "the float value is 0.12987\n"
     ]
    }
   ],
   "source": [
    "print('the float value is {n:1.5f}'.format(n=number))"
   ]
  },
  {
   "cell_type": "code",
   "execution_count": 29,
   "id": "eafa266c",
   "metadata": {},
   "outputs": [
    {
     "name": "stdout",
     "output_type": "stream",
     "text": [
      "the float value is    0.12987\n"
     ]
    }
   ],
   "source": [
    "print('the float value is {n:10.5f}'.format(n=number))"
   ]
  },
  {
   "cell_type": "markdown",
   "id": "58e42be4",
   "metadata": {},
   "source": [
    "f-string method"
   ]
  },
  {
   "cell_type": "markdown",
   "id": "8733d70b",
   "metadata": {},
   "source": [
    "syntax - print(f'this is a string {variable}')"
   ]
  },
  {
   "cell_type": "code",
   "execution_count": 31,
   "id": "1cbfa5aa",
   "metadata": {},
   "outputs": [
    {
     "name": "stdout",
     "output_type": "stream",
     "text": [
      "my name is harshit shankhdhar\n"
     ]
    }
   ],
   "source": [
    "print(f\"my name is {name}\")"
   ]
  },
  {
   "cell_type": "code",
   "execution_count": 32,
   "id": "d985ece6",
   "metadata": {},
   "outputs": [],
   "source": [
    "age=24"
   ]
  },
  {
   "cell_type": "code",
   "execution_count": 33,
   "id": "3965fdb1",
   "metadata": {},
   "outputs": [
    {
     "name": "stdout",
     "output_type": "stream",
     "text": [
      "my name is harshit shankhdhar and my age is 24\n"
     ]
    }
   ],
   "source": [
    "print(f\"my name is {name} and my age is {age}\")"
   ]
  },
  {
   "cell_type": "code",
   "execution_count": null,
   "id": "53921ea2",
   "metadata": {},
   "outputs": [],
   "source": []
  }
 ],
 "metadata": {
  "kernelspec": {
   "display_name": "Python 3",
   "language": "python",
   "name": "python3"
  },
  "language_info": {
   "codemirror_mode": {
    "name": "ipython",
    "version": 3
   },
   "file_extension": ".py",
   "mimetype": "text/x-python",
   "name": "python",
   "nbconvert_exporter": "python",
   "pygments_lexer": "ipython3",
   "version": "3.8.8"
  }
 },
 "nbformat": 4,
 "nbformat_minor": 5
}
