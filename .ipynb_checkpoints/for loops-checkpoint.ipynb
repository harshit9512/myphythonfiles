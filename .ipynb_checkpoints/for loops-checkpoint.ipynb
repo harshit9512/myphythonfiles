{
 "cells": [
  {
   "cell_type": "markdown",
   "id": "e394a5bb",
   "metadata": {},
   "source": [
    "-_**FOR LOOP**"
   ]
  },
  {
   "cell_type": "code",
   "execution_count": 2,
   "id": "2c5edc8b",
   "metadata": {},
   "outputs": [
    {
     "name": "stdout",
     "output_type": "stream",
     "text": [
      "h\n",
      "a\n",
      "r\n",
      "s\n",
      "i\n",
      "t\n"
     ]
    }
   ],
   "source": [
    "for _ in \"harsit\":\n",
    "    print(_)"
   ]
  },
  {
   "cell_type": "code",
   "execution_count": 4,
   "id": "1f24a8c0",
   "metadata": {},
   "outputs": [
    {
     "name": "stdout",
     "output_type": "stream",
     "text": [
      "1\n",
      "2\n",
      "3\n",
      "4\n",
      "5\n"
     ]
    }
   ],
   "source": [
    "for _ in [1,2,3,4,5]:\n",
    "    print(_)"
   ]
  },
  {
   "cell_type": "code",
   "execution_count": 5,
   "id": "d69f4b18",
   "metadata": {},
   "outputs": [
    {
     "name": "stdout",
     "output_type": "stream",
     "text": [
      "1\n",
      "2\n",
      "3\n",
      "4\n",
      "5\n"
     ]
    }
   ],
   "source": [
    "for _ in (1,2,3,4,5):\n",
    "    print(_)"
   ]
  },
  {
   "cell_type": "code",
   "execution_count": 18,
   "id": "0ed6915e",
   "metadata": {},
   "outputs": [],
   "source": [
    "names={1:'harry',2:'ron',3:'hermione'}\n"
   ]
  },
  {
   "cell_type": "code",
   "execution_count": 20,
   "id": "50586899",
   "metadata": {},
   "outputs": [
    {
     "name": "stdout",
     "output_type": "stream",
     "text": [
      "harry\n",
      "ron\n",
      "hermione\n"
     ]
    }
   ],
   "source": [
    "for _ in names:\n",
    "    print(names[_])"
   ]
  },
  {
   "cell_type": "code",
   "execution_count": 19,
   "id": "909af2f5",
   "metadata": {},
   "outputs": [
    {
     "name": "stdout",
     "output_type": "stream",
     "text": [
      "{1: 'harry', 2: 'ron', 3: 'hermione'}\n"
     ]
    }
   ],
   "source": [
    "print(names)"
   ]
  },
  {
   "cell_type": "code",
   "execution_count": 21,
   "id": "bc485f52",
   "metadata": {},
   "outputs": [],
   "source": [
    "prime=[1,3,5,7,11]"
   ]
  },
  {
   "cell_type": "code",
   "execution_count": 25,
   "id": "c5af929b",
   "metadata": {},
   "outputs": [
    {
     "name": "stdout",
     "output_type": "stream",
     "text": [
      "1\n",
      "3\n",
      "5\n",
      "7\n",
      "11\n"
     ]
    }
   ],
   "source": [
    "for _ in prime:\n",
    "    print(_)"
   ]
  },
  {
   "cell_type": "code",
   "execution_count": 26,
   "id": "7cad71c3",
   "metadata": {},
   "outputs": [
    {
     "name": "stdout",
     "output_type": "stream",
     "text": [
      "1\n",
      "3\n",
      "5\n",
      "7\n",
      "11\n"
     ]
    }
   ],
   "source": [
    "for _ in prime:\n",
    "    print(_)"
   ]
  },
  {
   "cell_type": "code",
   "execution_count": 27,
   "id": "c17ee9a4",
   "metadata": {},
   "outputs": [
    {
     "name": "stdout",
     "output_type": "stream",
     "text": [
      "hello\n",
      "hello\n",
      "hello\n",
      "hello\n",
      "hello\n"
     ]
    }
   ],
   "source": [
    "for _ in prime:\n",
    "    print(\"hello\")"
   ]
  },
  {
   "cell_type": "code",
   "execution_count": 28,
   "id": "4d14dfe2",
   "metadata": {},
   "outputs": [
    {
     "name": "stdout",
     "output_type": "stream",
     "text": [
      "1\n",
      "3\n",
      "5\n",
      "7\n",
      "11\n"
     ]
    }
   ],
   "source": [
    "for _ in prime:\n",
    "    print(_)"
   ]
  },
  {
   "cell_type": "code",
   "execution_count": 29,
   "id": "7a25bbd2",
   "metadata": {},
   "outputs": [],
   "source": [
    "numbers=[1,2,3,4,5,6,7,8,9,10]"
   ]
  },
  {
   "cell_type": "code",
   "execution_count": 33,
   "id": "06044eda",
   "metadata": {},
   "outputs": [
    {
     "name": "stdout",
     "output_type": "stream",
     "text": [
      "1 is a odd number\n",
      "2 is a even number\n",
      "3 is a odd number\n",
      "4 is a even number\n",
      "5 is a odd number\n",
      "6 is a even number\n",
      "7 is a odd number\n",
      "8 is a even number\n",
      "9 is a odd number\n",
      "10 is a even number\n"
     ]
    }
   ],
   "source": [
    "for _ in numbers:\n",
    "    if _%2==0:\n",
    "        print(f\"{_} is a even number\")\n",
    "    else:\n",
    "        print(f\"{_} is a odd number\")\n",
    "        "
   ]
  },
  {
   "cell_type": "code",
   "execution_count": 34,
   "id": "2b161900",
   "metadata": {},
   "outputs": [],
   "source": [
    "sum=0"
   ]
  },
  {
   "cell_type": "code",
   "execution_count": 36,
   "id": "30772620",
   "metadata": {},
   "outputs": [
    {
     "name": "stdout",
     "output_type": "stream",
     "text": [
      "1\n",
      "3\n",
      "6\n",
      "10\n",
      "15\n",
      "21\n",
      "28\n",
      "36\n",
      "45\n",
      "55\n"
     ]
    }
   ],
   "source": [
    "for _ in numbers:\n",
    "    sum+=_\n",
    "    print(sum)"
   ]
  },
  {
   "cell_type": "code",
   "execution_count": 38,
   "id": "72917789",
   "metadata": {},
   "outputs": [
    {
     "name": "stdout",
     "output_type": "stream",
     "text": [
      "55\n"
     ]
    }
   ],
   "source": [
    "sum=0\n",
    "for _ in numbers:\n",
    "    sum+=_\n",
    "print(sum)"
   ]
  },
  {
   "cell_type": "markdown",
   "id": "6b141443",
   "metadata": {},
   "source": [
    "**tuple unpacking**"
   ]
  },
  {
   "cell_type": "code",
   "execution_count": 40,
   "id": "6610609e",
   "metadata": {},
   "outputs": [],
   "source": [
    "tupleList=[(1,2),(3,4),(5,6)]"
   ]
  },
  {
   "cell_type": "code",
   "execution_count": 41,
   "id": "7c94577d",
   "metadata": {},
   "outputs": [
    {
     "name": "stdout",
     "output_type": "stream",
     "text": [
      "(1, 2)\n",
      "(3, 4)\n",
      "(5, 6)\n"
     ]
    }
   ],
   "source": [
    "for _ in tupleList:\n",
    "    print(_)"
   ]
  },
  {
   "cell_type": "markdown",
   "id": "e1150a18",
   "metadata": {},
   "source": [
    "*unpacking*"
   ]
  },
  {
   "cell_type": "code",
   "execution_count": 46,
   "id": "7021c8c3",
   "metadata": {},
   "outputs": [
    {
     "name": "stdout",
     "output_type": "stream",
     "text": [
      "1 2\n",
      "3 4\n",
      "5 6\n"
     ]
    }
   ],
   "source": [
    "for a,b in tupleList:\n",
    "    print(a,b)"
   ]
  },
  {
   "cell_type": "code",
   "execution_count": 47,
   "id": "05902677",
   "metadata": {},
   "outputs": [
    {
     "name": "stdout",
     "output_type": "stream",
     "text": [
      "1\n",
      "3\n",
      "5\n"
     ]
    }
   ],
   "source": [
    "for a,b in tupleList:\n",
    "    print(a)\n",
    "    "
   ]
  },
  {
   "cell_type": "code",
   "execution_count": 48,
   "id": "88dc5321",
   "metadata": {},
   "outputs": [
    {
     "name": "stdout",
     "output_type": "stream",
     "text": [
      "2\n",
      "4\n",
      "6\n"
     ]
    }
   ],
   "source": [
    "for a,b in tupleList:\n",
    "    print(b)"
   ]
  },
  {
   "cell_type": "code",
   "execution_count": 51,
   "id": "c94dfb1b",
   "metadata": {},
   "outputs": [],
   "source": [
    "tupleList2=[('a','b','c'),('d','e','f'),('g','h','i')]"
   ]
  },
  {
   "cell_type": "code",
   "execution_count": 56,
   "id": "3cde758f",
   "metadata": {},
   "outputs": [
    {
     "name": "stdout",
     "output_type": "stream",
     "text": [
      "a is the first item in tuple\n",
      "b is the second item in tuple\n",
      "c is the third item in tuple\n",
      "\n",
      "d is the first item in tuple\n",
      "e is the second item in tuple\n",
      "f is the third item in tuple\n",
      "\n",
      "g is the first item in tuple\n",
      "h is the second item in tuple\n",
      "i is the third item in tuple\n",
      "\n"
     ]
    }
   ],
   "source": [
    "for a,b,c in tupleList2:\n",
    "    print(f\"{a} is the first item in tuple\")\n",
    "    print(f\"{b} is the second item in tuple\")\n",
    "    print(f\"{c} is the third item in tuple\\n\")"
   ]
  },
  {
   "cell_type": "markdown",
   "id": "2dc74981",
   "metadata": {},
   "source": [
    "**For Loop in Dictionary**"
   ]
  },
  {
   "cell_type": "code",
   "execution_count": 66,
   "id": "41fcf143",
   "metadata": {},
   "outputs": [],
   "source": [
    "months={1:'jan',2:'feb',3:'mar'}"
   ]
  },
  {
   "cell_type": "code",
   "execution_count": 67,
   "id": "6372ca79",
   "metadata": {},
   "outputs": [
    {
     "name": "stdout",
     "output_type": "stream",
     "text": [
      "1\n",
      "2\n",
      "3\n"
     ]
    }
   ],
   "source": [
    "for _ in months:\n",
    "    print(_)"
   ]
  },
  {
   "cell_type": "markdown",
   "id": "bb4e8275",
   "metadata": {},
   "source": [
    "By default for loop in dictionaries iterate through keys"
   ]
  },
  {
   "cell_type": "code",
   "execution_count": 71,
   "id": "54b26874",
   "metadata": {},
   "outputs": [],
   "source": [
    "d = {'key1':1,'key2':2,'key3':3}"
   ]
  },
  {
   "cell_type": "code",
   "execution_count": 74,
   "id": "d8a17569",
   "metadata": {},
   "outputs": [
    {
     "name": "stdout",
     "output_type": "stream",
     "text": [
      "('key1', 1)\n",
      "('key2', 2)\n",
      "('key3', 3)\n"
     ]
    }
   ],
   "source": [
    "for item in d.items():\n",
    "    print(item)"
   ]
  },
  {
   "cell_type": "code",
   "execution_count": 75,
   "id": "c277f05e",
   "metadata": {},
   "outputs": [],
   "source": [
    "months = {1:'jan',2:'feb',3:'mar'}"
   ]
  },
  {
   "cell_type": "code",
   "execution_count": 76,
   "id": "3276392b",
   "metadata": {},
   "outputs": [
    {
     "name": "stdout",
     "output_type": "stream",
     "text": [
      "(1, 'jan')\n",
      "(2, 'feb')\n",
      "(3, 'mar')\n"
     ]
    }
   ],
   "source": [
    "for _ in months.items():\n",
    "    print(_)"
   ]
  },
  {
   "cell_type": "code",
   "execution_count": 85,
   "id": "d8ce5d7e",
   "metadata": {},
   "outputs": [
    {
     "name": "stdout",
     "output_type": "stream",
     "text": [
      "jan\n",
      "feb\n",
      "mar\n"
     ]
    }
   ],
   "source": [
    "for _ in months.values():\n",
    "    print(_)"
   ]
  },
  {
   "cell_type": "markdown",
   "id": "37ad2f4d",
   "metadata": {},
   "source": [
    "we can use tuple unpacking to unpack dictionary items"
   ]
  },
  {
   "cell_type": "code",
   "execution_count": 77,
   "id": "ad024b74",
   "metadata": {},
   "outputs": [
    {
     "name": "stdout",
     "output_type": "stream",
     "text": [
      "1 jan\n",
      "2 feb\n",
      "3 mar\n"
     ]
    }
   ],
   "source": [
    "for a,b in months.items():\n",
    "    print(a,b)"
   ]
  },
  {
   "cell_type": "code",
   "execution_count": 83,
   "id": "9000ccae",
   "metadata": {},
   "outputs": [
    {
     "name": "stdout",
     "output_type": "stream",
     "text": [
      "month number 1 is jan\n",
      "month number 2 is feb\n",
      "month number 3 is mar\n"
     ]
    }
   ],
   "source": [
    "for a,b in months.items():\n",
    "    print(f\"month number {a} is {b}\")\n",
    "    "
   ]
  },
  {
   "cell_type": "markdown",
   "id": "d03ae805",
   "metadata": {},
   "source": [
    "**break, continue and pass *statements***"
   ]
  },
  {
   "cell_type": "code",
   "execution_count": 87,
   "id": "d66c4bb2",
   "metadata": {},
   "outputs": [],
   "source": [
    "number=[1,2,3,4,5]"
   ]
  },
  {
   "cell_type": "markdown",
   "id": "c1f335a9",
   "metadata": {},
   "source": [
    "*pass statement*\n",
    "\n",
    "it does nothing at all, often used as a placeholder for loops or conditions to not get an error"
   ]
  },
  {
   "cell_type": "code",
   "execution_count": 96,
   "id": "4688cc65",
   "metadata": {},
   "outputs": [],
   "source": [
    "for _ in number:\n",
    "    pass"
   ]
  },
  {
   "cell_type": "code",
   "execution_count": 91,
   "id": "c3d0d071",
   "metadata": {},
   "outputs": [
    {
     "name": "stdout",
     "output_type": "stream",
     "text": [
      "1 is a odd prime number\n",
      "3 is a odd prime number\n",
      "5 is a odd prime number\n"
     ]
    }
   ],
   "source": [
    "for _ in number:\n",
    "    if _%2==0:\n",
    "        pass\n",
    "    else:\n",
    "        print(f'{_} is a odd prime number')"
   ]
  },
  {
   "cell_type": "code",
   "execution_count": 99,
   "id": "b3031c74",
   "metadata": {},
   "outputs": [
    {
     "name": "stdout",
     "output_type": "stream",
     "text": [
      "1 is a odd prime number\n",
      "print statement after pass\n",
      "\n",
      "3 is a odd prime number\n",
      "print statement after pass\n",
      "\n",
      "5 is a odd prime number\n"
     ]
    }
   ],
   "source": [
    "for _ in number:\n",
    "    if _%2==0:\n",
    "        pass\n",
    "        print(\"print statement after pass\\n\")\n",
    "    else:\n",
    "        print(f'{_} is a odd prime number')"
   ]
  },
  {
   "cell_type": "markdown",
   "id": "60ba84a7",
   "metadata": {},
   "source": [
    "*break statement*\n",
    "\n",
    "it breaks out of the closest enclosing loop"
   ]
  },
  {
   "cell_type": "code",
   "execution_count": 93,
   "id": "610ef031",
   "metadata": {},
   "outputs": [
    {
     "name": "stdout",
     "output_type": "stream",
     "text": [
      "1\n",
      "2\n",
      "3\n",
      "4\n"
     ]
    }
   ],
   "source": [
    "for _ in number:\n",
    "    if _==5:\n",
    "        break;\n",
    "    print(_)"
   ]
  },
  {
   "cell_type": "markdown",
   "id": "fb7fbed5",
   "metadata": {},
   "source": [
    "*continue statement*\n",
    "\n",
    "it goes to the start of the closest enclosing loop\n",
    "\n",
    "*diff b/w pass and coninue:*  anything written after pass also gets executed as pass does nothing at all.\n",
    "                              statements written after continue will not be executed."
   ]
  },
  {
   "cell_type": "code",
   "execution_count": 109,
   "id": "2b042571",
   "metadata": {},
   "outputs": [
    {
     "name": "stdout",
     "output_type": "stream",
     "text": [
      "1\n",
      "2\n",
      "3\n",
      "4\n",
      "7\n",
      "8\n",
      "9\n",
      "10\n"
     ]
    }
   ],
   "source": [
    "for _ in numbers:\n",
    "    if (_==5 or _==6):\n",
    "        continue;\n",
    "    print(_)"
   ]
  },
  {
   "cell_type": "code",
   "execution_count": 110,
   "id": "e34c46fa",
   "metadata": {},
   "outputs": [
    {
     "name": "stdout",
     "output_type": "stream",
     "text": [
      "1\n",
      "2\n",
      "3\n",
      "4\n",
      "7\n",
      "8\n",
      "9\n",
      "10\n"
     ]
    }
   ],
   "source": [
    "for _ in numbers:\n",
    "    if _==5 or _==6:\n",
    "        continue;\n",
    "    print(_)"
   ]
  },
  {
   "cell_type": "code",
   "execution_count": null,
   "id": "52837176",
   "metadata": {},
   "outputs": [],
   "source": []
  }
 ],
 "metadata": {
  "kernelspec": {
   "display_name": "Python 3",
   "language": "python",
   "name": "python3"
  },
  "language_info": {
   "codemirror_mode": {
    "name": "ipython",
    "version": 3
   },
   "file_extension": ".py",
   "mimetype": "text/x-python",
   "name": "python",
   "nbconvert_exporter": "python",
   "pygments_lexer": "ipython3",
   "version": "3.8.8"
  }
 },
 "nbformat": 4,
 "nbformat_minor": 5
}
