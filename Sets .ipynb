{
 "cells": [
  {
   "cell_type": "markdown",
   "id": "32086e51",
   "metadata": {},
   "source": [
    "**SETS**"
   ]
  },
  {
   "cell_type": "markdown",
   "id": "fe6add5a",
   "metadata": {},
   "source": [
    "we can define(construct) a set using set() function"
   ]
  },
  {
   "cell_type": "code",
   "execution_count": 1,
   "id": "a70499d0",
   "metadata": {},
   "outputs": [],
   "source": [
    "set1=set()"
   ]
  },
  {
   "cell_type": "code",
   "execution_count": 2,
   "id": "01374ed9",
   "metadata": {},
   "outputs": [
    {
     "data": {
      "text/plain": [
       "set()"
      ]
     },
     "execution_count": 2,
     "metadata": {},
     "output_type": "execute_result"
    }
   ],
   "source": [
    "set1"
   ]
  },
  {
   "cell_type": "code",
   "execution_count": 3,
   "id": "3c5e2704",
   "metadata": {},
   "outputs": [],
   "source": [
    "set1.add(10)"
   ]
  },
  {
   "cell_type": "code",
   "execution_count": 4,
   "id": "7af9b4c2",
   "metadata": {},
   "outputs": [
    {
     "data": {
      "text/plain": [
       "{10}"
      ]
     },
     "execution_count": 4,
     "metadata": {},
     "output_type": "execute_result"
    }
   ],
   "source": [
    "set1"
   ]
  },
  {
   "cell_type": "code",
   "execution_count": 6,
   "id": "d5688646",
   "metadata": {},
   "outputs": [],
   "source": [
    "set1.add(20)"
   ]
  },
  {
   "cell_type": "code",
   "execution_count": 7,
   "id": "ae86adba",
   "metadata": {},
   "outputs": [
    {
     "data": {
      "text/plain": [
       "{10, 20}"
      ]
     },
     "execution_count": 7,
     "metadata": {},
     "output_type": "execute_result"
    }
   ],
   "source": [
    "set1"
   ]
  },
  {
   "cell_type": "code",
   "execution_count": 8,
   "id": "779245c8",
   "metadata": {},
   "outputs": [],
   "source": [
    "set1.add(30)"
   ]
  },
  {
   "cell_type": "code",
   "execution_count": 9,
   "id": "3667c578",
   "metadata": {},
   "outputs": [],
   "source": [
    "set1.add(40)"
   ]
  },
  {
   "cell_type": "code",
   "execution_count": 10,
   "id": "f6ce14a6",
   "metadata": {},
   "outputs": [
    {
     "data": {
      "text/plain": [
       "{10, 20, 30, 40}"
      ]
     },
     "execution_count": 10,
     "metadata": {},
     "output_type": "execute_result"
    }
   ],
   "source": [
    "set1"
   ]
  },
  {
   "cell_type": "markdown",
   "id": "69c4637d",
   "metadata": {},
   "source": [
    "WE CAN CONVERT A STRING OR A LIST INTO SET BY PASSING INTO THE SET FUNCTION"
   ]
  },
  {
   "cell_type": "code",
   "execution_count": null,
   "id": "5e057855",
   "metadata": {},
   "outputs": [],
   "source": []
  }
 ],
 "metadata": {
  "kernelspec": {
   "display_name": "Python 3",
   "language": "python",
   "name": "python3"
  },
  "language_info": {
   "codemirror_mode": {
    "name": "ipython",
    "version": 3
   },
   "file_extension": ".py",
   "mimetype": "text/x-python",
   "name": "python",
   "nbconvert_exporter": "python",
   "pygments_lexer": "ipython3",
   "version": "3.8.8"
  }
 },
 "nbformat": 4,
 "nbformat_minor": 5
}
