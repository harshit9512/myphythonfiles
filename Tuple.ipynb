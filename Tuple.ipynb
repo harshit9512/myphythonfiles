{
 "cells": [
  {
   "cell_type": "markdown",
   "id": "89ee2713",
   "metadata": {},
   "source": [
    "TUPLES ARE VERY SIMILAR TO LISTS EXCEPT THAT THEY ARE IMMUTABLE AND LISTS ARE MUTABLE"
   ]
  },
  {
   "cell_type": "markdown",
   "id": "92f9b1c0",
   "metadata": {},
   "source": [
    "TUPLES USE ROUND BRACKETS WHEREAS LISTS USE SQUARE BRACKETS "
   ]
  },
  {
   "cell_type": "code",
   "execution_count": 5,
   "id": "5bc08e8a",
   "metadata": {},
   "outputs": [],
   "source": [
    "t=(3,2,4,5)"
   ]
  },
  {
   "cell_type": "code",
   "execution_count": 6,
   "id": "e810b443",
   "metadata": {},
   "outputs": [
    {
     "data": {
      "text/plain": [
       "3"
      ]
     },
     "execution_count": 6,
     "metadata": {},
     "output_type": "execute_result"
    }
   ],
   "source": [
    "t[0]"
   ]
  },
  {
   "cell_type": "code",
   "execution_count": 7,
   "id": "43b6d784",
   "metadata": {},
   "outputs": [
    {
     "data": {
      "text/plain": [
       "5"
      ]
     },
     "execution_count": 7,
     "metadata": {},
     "output_type": "execute_result"
    }
   ],
   "source": [
    "t[3]"
   ]
  },
  {
   "cell_type": "code",
   "execution_count": 8,
   "id": "9f6ceaca",
   "metadata": {},
   "outputs": [
    {
     "data": {
      "text/plain": [
       "4"
      ]
     },
     "execution_count": 8,
     "metadata": {},
     "output_type": "execute_result"
    }
   ],
   "source": [
    "len(t)"
   ]
  },
  {
   "cell_type": "markdown",
   "id": "4f8527c5",
   "metadata": {},
   "source": [
    "TUPLES HAVE ONLY 2 METHODS ASSOCIATED WITH THEM"
   ]
  },
  {
   "cell_type": "code",
   "execution_count": 9,
   "id": "e39929f3",
   "metadata": {},
   "outputs": [
    {
     "data": {
      "text/plain": [
       "1"
      ]
     },
     "execution_count": 9,
     "metadata": {},
     "output_type": "execute_result"
    }
   ],
   "source": [
    "t.count(2)"
   ]
  },
  {
   "cell_type": "code",
   "execution_count": 10,
   "id": "70c38afe",
   "metadata": {},
   "outputs": [
    {
     "data": {
      "text/plain": [
       "1"
      ]
     },
     "execution_count": 10,
     "metadata": {},
     "output_type": "execute_result"
    }
   ],
   "source": [
    "t.index(2)"
   ]
  },
  {
   "cell_type": "code",
   "execution_count": 11,
   "id": "74db3a03",
   "metadata": {},
   "outputs": [
    {
     "data": {
      "text/plain": [
       "3"
      ]
     },
     "execution_count": 11,
     "metadata": {},
     "output_type": "execute_result"
    }
   ],
   "source": [
    "t.index(5)"
   ]
  },
  {
   "cell_type": "markdown",
   "id": "52f7ea1e",
   "metadata": {},
   "source": [
    "NESTED TUPLES"
   ]
  },
  {
   "cell_type": "code",
   "execution_count": 12,
   "id": "411b078e",
   "metadata": {},
   "outputs": [],
   "source": [
    "x=(2,4,(1,3))"
   ]
  },
  {
   "cell_type": "code",
   "execution_count": 13,
   "id": "c88dc110",
   "metadata": {},
   "outputs": [
    {
     "data": {
      "text/plain": [
       "(1, 3)"
      ]
     },
     "execution_count": 13,
     "metadata": {},
     "output_type": "execute_result"
    }
   ],
   "source": [
    "x[2]"
   ]
  },
  {
   "cell_type": "code",
   "execution_count": 14,
   "id": "0b29710a",
   "metadata": {},
   "outputs": [
    {
     "data": {
      "text/plain": [
       "3"
      ]
     },
     "execution_count": 14,
     "metadata": {},
     "output_type": "execute_result"
    }
   ],
   "source": [
    "x[2][1]"
   ]
  },
  {
   "cell_type": "code",
   "execution_count": 15,
   "id": "21718350",
   "metadata": {},
   "outputs": [],
   "source": [
    "z=(1,'two',(10,(11,22)))"
   ]
  },
  {
   "cell_type": "code",
   "execution_count": 16,
   "id": "5339a61d",
   "metadata": {},
   "outputs": [
    {
     "data": {
      "text/plain": [
       "'two'"
      ]
     },
     "execution_count": 16,
     "metadata": {},
     "output_type": "execute_result"
    }
   ],
   "source": [
    "z[1]"
   ]
  },
  {
   "cell_type": "code",
   "execution_count": 17,
   "id": "bd1d0e53",
   "metadata": {},
   "outputs": [
    {
     "data": {
      "text/plain": [
       "1"
      ]
     },
     "execution_count": 17,
     "metadata": {},
     "output_type": "execute_result"
    }
   ],
   "source": [
    "z[0]"
   ]
  },
  {
   "cell_type": "code",
   "execution_count": 19,
   "id": "82de8bf8",
   "metadata": {},
   "outputs": [
    {
     "data": {
      "text/plain": [
       "(10, (11, 22))"
      ]
     },
     "execution_count": 19,
     "metadata": {},
     "output_type": "execute_result"
    }
   ],
   "source": [
    "z[2]"
   ]
  },
  {
   "cell_type": "code",
   "execution_count": 20,
   "id": "09ac605f",
   "metadata": {},
   "outputs": [
    {
     "data": {
      "text/plain": [
       "22"
      ]
     },
     "execution_count": 20,
     "metadata": {},
     "output_type": "execute_result"
    }
   ],
   "source": [
    "z[2][1][1]"
   ]
  },
  {
   "cell_type": "code",
   "execution_count": null,
   "id": "3281e047",
   "metadata": {},
   "outputs": [],
   "source": []
  }
 ],
 "metadata": {
  "kernelspec": {
   "display_name": "Python 3",
   "language": "python",
   "name": "python3"
  },
  "language_info": {
   "codemirror_mode": {
    "name": "ipython",
    "version": 3
   },
   "file_extension": ".py",
   "mimetype": "text/x-python",
   "name": "python",
   "nbconvert_exporter": "python",
   "pygments_lexer": "ipython3",
   "version": "3.8.8"
  }
 },
 "nbformat": 4,
 "nbformat_minor": 5
}
