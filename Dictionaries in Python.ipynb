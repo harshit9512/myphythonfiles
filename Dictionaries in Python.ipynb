{
 "cells": [
  {
   "cell_type": "code",
   "execution_count": 8,
   "id": "d3a1fe9e",
   "metadata": {},
   "outputs": [],
   "source": [
    "x={'key1':'apple','key2':9212,'key3':21.12}"
   ]
  },
  {
   "cell_type": "code",
   "execution_count": 9,
   "id": "6e8004f1",
   "metadata": {},
   "outputs": [
    {
     "data": {
      "text/plain": [
       "{'key1': 'apple', 'key2': 9212, 'key3': 21.12}"
      ]
     },
     "execution_count": 9,
     "metadata": {},
     "output_type": "execute_result"
    }
   ],
   "source": [
    "x"
   ]
  },
  {
   "cell_type": "markdown",
   "id": "02913442",
   "metadata": {},
   "source": [
    "In dictionaries for indexing we have to pass in key instead of index location "
   ]
  },
  {
   "cell_type": "code",
   "execution_count": 10,
   "id": "de4049c3",
   "metadata": {},
   "outputs": [
    {
     "data": {
      "text/plain": [
       "'apple'"
      ]
     },
     "execution_count": 10,
     "metadata": {},
     "output_type": "execute_result"
    }
   ],
   "source": [
    "x['key1']"
   ]
  },
  {
   "cell_type": "code",
   "execution_count": 11,
   "id": "3659342f",
   "metadata": {},
   "outputs": [
    {
     "data": {
      "text/plain": [
       "9212"
      ]
     },
     "execution_count": 11,
     "metadata": {},
     "output_type": "execute_result"
    }
   ],
   "source": [
    "x['key2']"
   ]
  },
  {
   "cell_type": "code",
   "execution_count": 12,
   "id": "bdc8860c",
   "metadata": {},
   "outputs": [
    {
     "data": {
      "text/plain": [
       "21.12"
      ]
     },
     "execution_count": 12,
     "metadata": {},
     "output_type": "execute_result"
    }
   ],
   "source": [
    "x['key3']"
   ]
  },
  {
   "cell_type": "code",
   "execution_count": 13,
   "id": "443cddb5",
   "metadata": {},
   "outputs": [],
   "source": [
    "x['key1']=123"
   ]
  },
  {
   "cell_type": "code",
   "execution_count": 14,
   "id": "1de40674",
   "metadata": {},
   "outputs": [
    {
     "data": {
      "text/plain": [
       "{'key1': 123, 'key2': 9212, 'key3': 21.12}"
      ]
     },
     "execution_count": 14,
     "metadata": {},
     "output_type": "execute_result"
    }
   ],
   "source": [
    "x"
   ]
  },
  {
   "cell_type": "code",
   "execution_count": 16,
   "id": "52b3db79",
   "metadata": {},
   "outputs": [
    {
     "data": {
      "text/plain": [
       "dict_keys(['key1', 'key2', 'key3'])"
      ]
     },
     "execution_count": 16,
     "metadata": {},
     "output_type": "execute_result"
    }
   ],
   "source": [
    "x.keys()"
   ]
  },
  {
   "cell_type": "code",
   "execution_count": 17,
   "id": "68836630",
   "metadata": {},
   "outputs": [
    {
     "data": {
      "text/plain": [
       "dict_values([123, 9212, 21.12])"
      ]
     },
     "execution_count": 17,
     "metadata": {},
     "output_type": "execute_result"
    }
   ],
   "source": [
    "x.values()"
   ]
  },
  {
   "cell_type": "code",
   "execution_count": 18,
   "id": "973d5ef4",
   "metadata": {},
   "outputs": [
    {
     "data": {
      "text/plain": [
       "dict_items([('key1', 123), ('key2', 9212), ('key3', 21.12)])"
      ]
     },
     "execution_count": 18,
     "metadata": {},
     "output_type": "execute_result"
    }
   ],
   "source": [
    "x.items()"
   ]
  },
  {
   "cell_type": "markdown",
   "id": "b240d650",
   "metadata": {},
   "source": [
    "NESTING IN DICTIONARIES"
   ]
  },
  {
   "cell_type": "code",
   "execution_count": 19,
   "id": "2ca4f89c",
   "metadata": {},
   "outputs": [],
   "source": [
    "z={'1':10,'2':[20,40,60]}"
   ]
  },
  {
   "cell_type": "code",
   "execution_count": 20,
   "id": "8ade69e3",
   "metadata": {},
   "outputs": [
    {
     "data": {
      "text/plain": [
       "{'1': 10, '2': [20, 40, 60]}"
      ]
     },
     "execution_count": 20,
     "metadata": {},
     "output_type": "execute_result"
    }
   ],
   "source": [
    "z"
   ]
  },
  {
   "cell_type": "code",
   "execution_count": 21,
   "id": "f0cb0b6a",
   "metadata": {},
   "outputs": [
    {
     "data": {
      "text/plain": [
       "10"
      ]
     },
     "execution_count": 21,
     "metadata": {},
     "output_type": "execute_result"
    }
   ],
   "source": [
    "z['1']"
   ]
  },
  {
   "cell_type": "code",
   "execution_count": 22,
   "id": "9801b651",
   "metadata": {},
   "outputs": [
    {
     "data": {
      "text/plain": [
       "[20, 40, 60]"
      ]
     },
     "execution_count": 22,
     "metadata": {},
     "output_type": "execute_result"
    }
   ],
   "source": [
    "z['2']"
   ]
  },
  {
   "cell_type": "code",
   "execution_count": 23,
   "id": "1b002650",
   "metadata": {},
   "outputs": [
    {
     "data": {
      "text/plain": [
       "60"
      ]
     },
     "execution_count": 23,
     "metadata": {},
     "output_type": "execute_result"
    }
   ],
   "source": [
    "z['2'][2]"
   ]
  },
  {
   "cell_type": "code",
   "execution_count": 24,
   "id": "ff618f6d",
   "metadata": {},
   "outputs": [
    {
     "data": {
      "text/plain": [
       "20"
      ]
     },
     "execution_count": 24,
     "metadata": {},
     "output_type": "execute_result"
    }
   ],
   "source": [
    "z['2'][0]"
   ]
  },
  {
   "cell_type": "code",
   "execution_count": 25,
   "id": "bf662ebc",
   "metadata": {},
   "outputs": [
    {
     "data": {
      "text/plain": [
       "{'1': 10, '2': [20, 40, 60]}"
      ]
     },
     "execution_count": 25,
     "metadata": {},
     "output_type": "execute_result"
    }
   ],
   "source": [
    "z"
   ]
  },
  {
   "cell_type": "code",
   "execution_count": 27,
   "id": "5f36b3bd",
   "metadata": {},
   "outputs": [],
   "source": [
    "popped_item=z.pop('1')"
   ]
  },
  {
   "cell_type": "code",
   "execution_count": 28,
   "id": "fde36a20",
   "metadata": {},
   "outputs": [
    {
     "data": {
      "text/plain": [
       "{'2': [20, 40, 60]}"
      ]
     },
     "execution_count": 28,
     "metadata": {},
     "output_type": "execute_result"
    }
   ],
   "source": [
    "z"
   ]
  },
  {
   "cell_type": "code",
   "execution_count": 29,
   "id": "44d59c9b",
   "metadata": {},
   "outputs": [
    {
     "data": {
      "text/plain": [
       "10"
      ]
     },
     "execution_count": 29,
     "metadata": {},
     "output_type": "execute_result"
    }
   ],
   "source": [
    "popped_item"
   ]
  },
  {
   "cell_type": "code",
   "execution_count": null,
   "id": "4c259a08",
   "metadata": {},
   "outputs": [],
   "source": []
  }
 ],
 "metadata": {
  "kernelspec": {
   "display_name": "Python 3",
   "language": "python",
   "name": "python3"
  },
  "language_info": {
   "codemirror_mode": {
    "name": "ipython",
    "version": 3
   },
   "file_extension": ".py",
   "mimetype": "text/x-python",
   "name": "python",
   "nbconvert_exporter": "python",
   "pygments_lexer": "ipython3",
   "version": "3.8.8"
  }
 },
 "nbformat": 4,
 "nbformat_minor": 5
}
