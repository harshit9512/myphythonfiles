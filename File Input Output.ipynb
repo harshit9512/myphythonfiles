{
 "cells": [
  {
   "cell_type": "markdown",
   "id": "1f50a787",
   "metadata": {},
   "source": [
    "**FILE I/O**"
   ]
  },
  {
   "cell_type": "markdown",
   "id": "81fc16ca",
   "metadata": {},
   "source": [
    "Creating a text file using a fn available only for jupyter//not a python command"
   ]
  },
  {
   "cell_type": "code",
   "execution_count": 1,
   "id": "07e8a4c7",
   "metadata": {},
   "outputs": [
    {
     "name": "stdout",
     "output_type": "stream",
     "text": [
      "Writing myfile.txt\n"
     ]
    }
   ],
   "source": [
    "%%writefile myfile.txt\n",
    "Hello this is a text file\n",
    "this is the first line\n",
    "this is the second line \n",
    "this is the third line"
   ]
  },
  {
   "cell_type": "markdown",
   "id": "59053b93",
   "metadata": {},
   "source": [
    "Note: we need a variable to open a file."
   ]
  },
  {
   "cell_type": "code",
   "execution_count": 3,
   "id": "52d765db",
   "metadata": {},
   "outputs": [],
   "source": [
    "myfile = open('myfile.txt')"
   ]
  },
  {
   "cell_type": "code",
   "execution_count": 4,
   "id": "e7ad53bd",
   "metadata": {},
   "outputs": [
    {
     "data": {
      "text/plain": [
       "<_io.TextIOWrapper name='myfile.txt' mode='r' encoding='cp1252'>"
      ]
     },
     "execution_count": 4,
     "metadata": {},
     "output_type": "execute_result"
    }
   ],
   "source": [
    "myfile"
   ]
  },
  {
   "cell_type": "markdown",
   "id": "71d1b832",
   "metadata": {},
   "source": [
    "This variable has no value stored in it. it is just opening myfile"
   ]
  },
  {
   "cell_type": "code",
   "execution_count": 5,
   "id": "382cb2af",
   "metadata": {},
   "outputs": [
    {
     "data": {
      "text/plain": [
       "'Hello this is a text file\\nthis is the first line\\nthis is the second line \\nthis is the third line\\n'"
      ]
     },
     "execution_count": 5,
     "metadata": {},
     "output_type": "execute_result"
    }
   ],
   "source": [
    "myfile.read()"
   ]
  },
  {
   "cell_type": "code",
   "execution_count": 6,
   "id": "f0ce6cc6",
   "metadata": {},
   "outputs": [
    {
     "data": {
      "text/plain": [
       "''"
      ]
     },
     "execution_count": 6,
     "metadata": {},
     "output_type": "execute_result"
    }
   ],
   "source": [
    "myfile.readline()"
   ]
  },
  {
   "cell_type": "code",
   "execution_count": 8,
   "id": "2fae8ded",
   "metadata": {},
   "outputs": [
    {
     "data": {
      "text/plain": [
       "0"
      ]
     },
     "execution_count": 8,
     "metadata": {},
     "output_type": "execute_result"
    }
   ],
   "source": [
    "myfile.seek(0)"
   ]
  },
  {
   "cell_type": "code",
   "execution_count": 9,
   "id": "df2f0a1f",
   "metadata": {},
   "outputs": [
    {
     "data": {
      "text/plain": [
       "'Hello this is a text file\\nthis is the first line\\nthis is the second line \\nthis is the third line\\n'"
      ]
     },
     "execution_count": 9,
     "metadata": {},
     "output_type": "execute_result"
    }
   ],
   "source": [
    "myfile.read()"
   ]
  },
  {
   "cell_type": "code",
   "execution_count": 10,
   "id": "3605f47a",
   "metadata": {},
   "outputs": [
    {
     "data": {
      "text/plain": [
       "0"
      ]
     },
     "execution_count": 10,
     "metadata": {},
     "output_type": "execute_result"
    }
   ],
   "source": [
    "myfile.seek(0)"
   ]
  },
  {
   "cell_type": "code",
   "execution_count": 11,
   "id": "db7464b1",
   "metadata": {},
   "outputs": [
    {
     "data": {
      "text/plain": [
       "'H'"
      ]
     },
     "execution_count": 11,
     "metadata": {},
     "output_type": "execute_result"
    }
   ],
   "source": [
    "myfile.readline(1)"
   ]
  },
  {
   "cell_type": "code",
   "execution_count": 13,
   "id": "4d49391b",
   "metadata": {},
   "outputs": [
    {
     "data": {
      "text/plain": [
       "'ello this is a text file\\n'"
      ]
     },
     "execution_count": 13,
     "metadata": {},
     "output_type": "execute_result"
    }
   ],
   "source": [
    "myfile.readline(-1)"
   ]
  },
  {
   "cell_type": "code",
   "execution_count": 14,
   "id": "afd81b7f",
   "metadata": {},
   "outputs": [
    {
     "data": {
      "text/plain": [
       "['this is the first line\\n',\n",
       " 'this is the second line \\n',\n",
       " 'this is the third line\\n']"
      ]
     },
     "execution_count": 14,
     "metadata": {},
     "output_type": "execute_result"
    }
   ],
   "source": [
    "myfile.readlines()"
   ]
  },
  {
   "cell_type": "code",
   "execution_count": 15,
   "id": "9c020df4",
   "metadata": {},
   "outputs": [
    {
     "data": {
      "text/plain": [
       "0"
      ]
     },
     "execution_count": 15,
     "metadata": {},
     "output_type": "execute_result"
    }
   ],
   "source": [
    "myfile.seek(0)"
   ]
  },
  {
   "cell_type": "code",
   "execution_count": 16,
   "id": "4d59fa93",
   "metadata": {},
   "outputs": [
    {
     "data": {
      "text/plain": [
       "['Hello this is a text file\\n',\n",
       " 'this is the first line\\n',\n",
       " 'this is the second line \\n',\n",
       " 'this is the third line\\n']"
      ]
     },
     "execution_count": 16,
     "metadata": {},
     "output_type": "execute_result"
    }
   ],
   "source": [
    "myfile.readlines()"
   ]
  },
  {
   "cell_type": "code",
   "execution_count": 17,
   "id": "7c9cc82a",
   "metadata": {},
   "outputs": [],
   "source": [
    "myfile.close()"
   ]
  },
  {
   "cell_type": "markdown",
   "id": "c0bfd73c",
   "metadata": {},
   "source": [
    "instead of just displaying the contents i can store them on a variable as well"
   ]
  },
  {
   "cell_type": "code",
   "execution_count": 19,
   "id": "39847136",
   "metadata": {},
   "outputs": [],
   "source": [
    "with open('myfile.txt') as myfile:\n",
    "    contents = myfile.read()"
   ]
  },
  {
   "cell_type": "markdown",
   "id": "f2add12f",
   "metadata": {},
   "source": [
    "with the above command i dont have to worry about closing the file now. it will close automatically after the command followed by indentation"
   ]
  },
  {
   "cell_type": "code",
   "execution_count": 20,
   "id": "1e65a0ca",
   "metadata": {},
   "outputs": [
    {
     "data": {
      "text/plain": [
       "'Hello this is a text file\\nthis is the first line\\nthis is the second line \\nthis is the third line\\n'"
      ]
     },
     "execution_count": 20,
     "metadata": {},
     "output_type": "execute_result"
    }
   ],
   "source": [
    "contents"
   ]
  },
  {
   "cell_type": "code",
   "execution_count": 21,
   "id": "50db5a12",
   "metadata": {},
   "outputs": [
    {
     "name": "stdout",
     "output_type": "stream",
     "text": [
      "Hello this is a text file\n",
      "this is the first line\n",
      "this is the second line \n",
      "this is the third line\n",
      "\n"
     ]
    }
   ],
   "source": [
    "print(contents)"
   ]
  },
  {
   "cell_type": "code",
   "execution_count": 22,
   "id": "c6b8d28a",
   "metadata": {},
   "outputs": [
    {
     "data": {
      "text/plain": [
       "'Hello this is a text file\\nthis is the first line\\nthis is the second line \\nthis is the third line\\nthis is the fourth line'"
      ]
     },
     "execution_count": 22,
     "metadata": {},
     "output_type": "execute_result"
    }
   ],
   "source": [
    "contents + 'this is the fourth line'"
   ]
  },
  {
   "cell_type": "code",
   "execution_count": 23,
   "id": "01720a59",
   "metadata": {},
   "outputs": [
    {
     "name": "stdout",
     "output_type": "stream",
     "text": [
      "Hello this is a text file\n",
      "this is the first line\n",
      "this is the second line \n",
      "this is the third line\n",
      "\n"
     ]
    }
   ],
   "source": [
    "print(contents)"
   ]
  },
  {
   "cell_type": "code",
   "execution_count": 24,
   "id": "524d2e48",
   "metadata": {},
   "outputs": [],
   "source": [
    "contents= contents + 'this is the fourth line'"
   ]
  },
  {
   "cell_type": "code",
   "execution_count": 25,
   "id": "df1f0575",
   "metadata": {},
   "outputs": [
    {
     "name": "stdout",
     "output_type": "stream",
     "text": [
      "Hello this is a text file\n",
      "this is the first line\n",
      "this is the second line \n",
      "this is the third line\n",
      "this is the fourth line\n"
     ]
    }
   ],
   "source": [
    "print(contents)"
   ]
  },
  {
   "cell_type": "markdown",
   "id": "4186ae7b",
   "metadata": {},
   "source": [
    "We can also provide permissions while opening the file.\n",
    "NOTE: to create a file we can also open a non-existing file with write permission"
   ]
  },
  {
   "cell_type": "code",
   "execution_count": 28,
   "id": "e210a1e4",
   "metadata": {},
   "outputs": [],
   "source": [
    "with open('newfile.txt','w') as newfile:\n",
    "    newfile.write('this is a new file')"
   ]
  },
  {
   "cell_type": "code",
   "execution_count": 30,
   "id": "02211cff",
   "metadata": {},
   "outputs": [],
   "source": [
    "with open('newfile.txt','r') as newfile:\n",
    "    contents = newfile.read()"
   ]
  },
  {
   "cell_type": "code",
   "execution_count": 32,
   "id": "efa508e8",
   "metadata": {},
   "outputs": [
    {
     "name": "stdout",
     "output_type": "stream",
     "text": [
      "this is a new file\n"
     ]
    }
   ],
   "source": [
    "print(contents)"
   ]
  }
 ],
 "metadata": {
  "kernelspec": {
   "display_name": "Python 3",
   "language": "python",
   "name": "python3"
  },
  "language_info": {
   "codemirror_mode": {
    "name": "ipython",
    "version": 3
   },
   "file_extension": ".py",
   "mimetype": "text/x-python",
   "name": "python",
   "nbconvert_exporter": "python",
   "pygments_lexer": "ipython3",
   "version": "3.8.8"
  }
 },
 "nbformat": 4,
 "nbformat_minor": 5
}
