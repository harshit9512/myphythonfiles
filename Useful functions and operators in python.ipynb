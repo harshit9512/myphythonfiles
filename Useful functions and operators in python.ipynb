{
 "cells": [
  {
   "cell_type": "markdown",
   "id": "98bc71cf",
   "metadata": {},
   "source": [
    "**range** function"
   ]
  },
  {
   "cell_type": "code",
   "execution_count": 6,
   "id": "43089f5d",
   "metadata": {},
   "outputs": [
    {
     "data": {
      "text/plain": [
       "range(0, 10)"
      ]
     },
     "execution_count": 6,
     "metadata": {},
     "output_type": "execute_result"
    }
   ],
   "source": [
    "range(10)"
   ]
  },
  {
   "cell_type": "code",
   "execution_count": 7,
   "id": "d3914c33",
   "metadata": {},
   "outputs": [
    {
     "data": {
      "text/plain": [
       "[0, 1, 2, 3, 4, 5, 6, 7, 8, 9]"
      ]
     },
     "execution_count": 7,
     "metadata": {},
     "output_type": "execute_result"
    }
   ],
   "source": [
    "list(range(10))"
   ]
  },
  {
   "cell_type": "code",
   "execution_count": 8,
   "id": "c14db00a",
   "metadata": {},
   "outputs": [],
   "source": [
    "list1=list(range(10))"
   ]
  },
  {
   "cell_type": "code",
   "execution_count": 9,
   "id": "d7e51485",
   "metadata": {},
   "outputs": [
    {
     "data": {
      "text/plain": [
       "[0, 1, 2, 3, 4, 5, 6, 7, 8, 9]"
      ]
     },
     "execution_count": 9,
     "metadata": {},
     "output_type": "execute_result"
    }
   ],
   "source": [
    "list1"
   ]
  },
  {
   "cell_type": "markdown",
   "id": "41fd0d60",
   "metadata": {},
   "source": [
    "range function with for loops"
   ]
  },
  {
   "cell_type": "code",
   "execution_count": 10,
   "id": "11b017c1",
   "metadata": {},
   "outputs": [
    {
     "name": "stdout",
     "output_type": "stream",
     "text": [
      "0\n",
      "1\n",
      "2\n",
      "3\n",
      "4\n",
      "5\n",
      "6\n",
      "7\n"
     ]
    }
   ],
   "source": [
    "for _ in range(8):\n",
    "    print(_)"
   ]
  },
  {
   "cell_type": "code",
   "execution_count": 11,
   "id": "c795ac09",
   "metadata": {},
   "outputs": [
    {
     "name": "stdout",
     "output_type": "stream",
     "text": [
      "hello\n",
      "hello\n",
      "hello\n",
      "hello\n",
      "hello\n",
      "hello\n",
      "hello\n",
      "hello\n"
     ]
    }
   ],
   "source": [
    "for _ in range(8):\n",
    "    print('hello')"
   ]
  },
  {
   "cell_type": "code",
   "execution_count": 12,
   "id": "3d39d7fd",
   "metadata": {},
   "outputs": [
    {
     "name": "stdout",
     "output_type": "stream",
     "text": [
      "1\n",
      "3\n",
      "5\n",
      "7\n",
      "9\n"
     ]
    }
   ],
   "source": [
    "for _ in range(1,11,2): #range fn accepts arguments like slicing\n",
    "    print(_)"
   ]
  },
  {
   "cell_type": "code",
   "execution_count": 13,
   "id": "44b0df6b",
   "metadata": {},
   "outputs": [
    {
     "name": "stdout",
     "output_type": "stream",
     "text": [
      " 0 a\n",
      " 1 b\n",
      " 2 c\n",
      " 3 d\n",
      " 4 e\n"
     ]
    }
   ],
   "source": [
    "list2=['a','b','c','d','e']\n",
    "counter=0\n",
    "for _ in list2:\n",
    "    print(f' {counter} {_}')\n",
    "    counter+=1"
   ]
  },
  {
   "cell_type": "markdown",
   "id": "86401596",
   "metadata": {},
   "source": [
    "The code written above is to get a counter for elements in any iterable object .\n",
    "Enumerate function also helps to achieve that."
   ]
  },
  {
   "cell_type": "markdown",
   "id": "5aabcd00",
   "metadata": {},
   "source": [
    "**Enumerate Function**"
   ]
  },
  {
   "cell_type": "code",
   "execution_count": 15,
   "id": "2b9fabde",
   "metadata": {},
   "outputs": [
    {
     "name": "stdout",
     "output_type": "stream",
     "text": [
      "(0, 'a')\n",
      "(1, 'b')\n",
      "(2, 'c')\n",
      "(3, 'd')\n",
      "(4, 'e')\n"
     ]
    }
   ],
   "source": [
    "for _ in enumerate(list2):\n",
    "    print(_)\n",
    "    "
   ]
  },
  {
   "cell_type": "markdown",
   "id": "c643fece",
   "metadata": {},
   "source": [
    "We can also use string unpacking with enumerate function."
   ]
  },
  {
   "cell_type": "code",
   "execution_count": 16,
   "id": "010d3584",
   "metadata": {},
   "outputs": [
    {
     "name": "stdout",
     "output_type": "stream",
     "text": [
      "0 a\n",
      "1 b\n",
      "2 c\n",
      "3 d\n",
      "4 e\n"
     ]
    }
   ],
   "source": [
    "for a,b in enumerate(list2):\n",
    "    print(a,b)\n",
    "    "
   ]
  },
  {
   "cell_type": "code",
   "execution_count": 19,
   "id": "e9cd2d20",
   "metadata": {},
   "outputs": [
    {
     "name": "stdout",
     "output_type": "stream",
     "text": [
      "0\n",
      "a\n",
      "\n",
      "\n",
      "1\n",
      "b\n",
      "\n",
      "\n",
      "2\n",
      "c\n",
      "\n",
      "\n",
      "3\n",
      "d\n",
      "\n",
      "\n",
      "4\n",
      "e\n",
      "\n",
      "\n"
     ]
    }
   ],
   "source": [
    "for a,b in enumerate(list2):\n",
    "    print(a)\n",
    "    print(b)\n",
    "    print(\"\\n\")"
   ]
  },
  {
   "cell_type": "markdown",
   "id": "39f0ff29",
   "metadata": {},
   "source": [
    "**in operator**"
   ]
  },
  {
   "cell_type": "markdown",
   "id": "138f79a7",
   "metadata": {},
   "source": [
    "*to check in an object is in the list or string or dict etc*"
   ]
  },
  {
   "cell_type": "code",
   "execution_count": 21,
   "id": "eb677f7f",
   "metadata": {},
   "outputs": [
    {
     "data": {
      "text/plain": [
       "[0, 1, 2, 3, 4, 5, 6, 7, 8, 9]"
      ]
     },
     "execution_count": 21,
     "metadata": {},
     "output_type": "execute_result"
    }
   ],
   "source": [
    "list1"
   ]
  },
  {
   "cell_type": "code",
   "execution_count": 22,
   "id": "279286c7",
   "metadata": {},
   "outputs": [
    {
     "data": {
      "text/plain": [
       "True"
      ]
     },
     "execution_count": 22,
     "metadata": {},
     "output_type": "execute_result"
    }
   ],
   "source": [
    "5 in list1"
   ]
  },
  {
   "cell_type": "code",
   "execution_count": 23,
   "id": "8fa1b701",
   "metadata": {},
   "outputs": [
    {
     "data": {
      "text/plain": [
       "['a', 'b', 'c', 'd', 'e']"
      ]
     },
     "execution_count": 23,
     "metadata": {},
     "output_type": "execute_result"
    }
   ],
   "source": [
    "list2"
   ]
  },
  {
   "cell_type": "code",
   "execution_count": 26,
   "id": "25eea218",
   "metadata": {},
   "outputs": [
    {
     "data": {
      "text/plain": [
       "True"
      ]
     },
     "execution_count": 26,
     "metadata": {},
     "output_type": "execute_result"
    }
   ],
   "source": [
    "'d' in list2"
   ]
  },
  {
   "cell_type": "markdown",
   "id": "3542da55",
   "metadata": {},
   "source": [
    "**zip function**"
   ]
  },
  {
   "cell_type": "markdown",
   "id": "e4505ce5",
   "metadata": {},
   "source": [
    "it zips elements of two or more lists into tuples"
   ]
  },
  {
   "cell_type": "code",
   "execution_count": 30,
   "id": "58f00f36",
   "metadata": {},
   "outputs": [],
   "source": [
    "list3=[1,2,3]"
   ]
  },
  {
   "cell_type": "code",
   "execution_count": 36,
   "id": "f2c51cb9",
   "metadata": {},
   "outputs": [],
   "source": [
    "list4=[100,200,300]"
   ]
  },
  {
   "cell_type": "code",
   "execution_count": 37,
   "id": "b596e72a",
   "metadata": {},
   "outputs": [
    {
     "data": {
      "text/plain": [
       "<zip at 0x28d13115580>"
      ]
     },
     "execution_count": 37,
     "metadata": {},
     "output_type": "execute_result"
    }
   ],
   "source": [
    "zip(list3,list4)"
   ]
  },
  {
   "cell_type": "markdown",
   "id": "4f8b3d41",
   "metadata": {},
   "source": [
    "zip funtion is used with for loop"
   ]
  },
  {
   "cell_type": "code",
   "execution_count": 38,
   "id": "70b27f05",
   "metadata": {},
   "outputs": [
    {
     "name": "stdout",
     "output_type": "stream",
     "text": [
      "(1, 100)\n",
      "(2, 200)\n",
      "(3, 300)\n"
     ]
    }
   ],
   "source": [
    "for _ in zip(list3,list4):\n",
    "    print(_)"
   ]
  },
  {
   "cell_type": "code",
   "execution_count": 39,
   "id": "1090cf3c",
   "metadata": {},
   "outputs": [],
   "source": [
    "list5=['a','b','c']"
   ]
  },
  {
   "cell_type": "code",
   "execution_count": 40,
   "id": "3837bde8",
   "metadata": {},
   "outputs": [],
   "source": [
    "zipped=zip(list3,list4,list5)"
   ]
  },
  {
   "cell_type": "code",
   "execution_count": 41,
   "id": "6ad003f4",
   "metadata": {},
   "outputs": [
    {
     "name": "stdout",
     "output_type": "stream",
     "text": [
      "(1, 100, 'a')\n",
      "(2, 200, 'b')\n",
      "(3, 300, 'c')\n"
     ]
    }
   ],
   "source": [
    "for _ in zipped:\n",
    "    print(_)"
   ]
  },
  {
   "cell_type": "code",
   "execution_count": 42,
   "id": "e2cd5737",
   "metadata": {},
   "outputs": [
    {
     "data": {
      "text/plain": [
       "[(1, 100, 'a'), (2, 200, 'b'), (3, 300, 'c')]"
      ]
     },
     "execution_count": 42,
     "metadata": {},
     "output_type": "execute_result"
    }
   ],
   "source": [
    "list(zip(list3,list4,list5))"
   ]
  },
  {
   "cell_type": "markdown",
   "id": "ee6110d0",
   "metadata": {},
   "source": [
    "**min & max function**"
   ]
  },
  {
   "cell_type": "markdown",
   "id": "5c503b01",
   "metadata": {},
   "source": [
    "to find out minimum and maximum value in any iterable object"
   ]
  },
  {
   "cell_type": "code",
   "execution_count": 44,
   "id": "7b288d3c",
   "metadata": {},
   "outputs": [
    {
     "data": {
      "text/plain": [
       "'a'"
      ]
     },
     "execution_count": 44,
     "metadata": {},
     "output_type": "execute_result"
    }
   ],
   "source": [
    "min(list5)"
   ]
  },
  {
   "cell_type": "code",
   "execution_count": 45,
   "id": "bb40a435",
   "metadata": {},
   "outputs": [
    {
     "data": {
      "text/plain": [
       "300"
      ]
     },
     "execution_count": 45,
     "metadata": {},
     "output_type": "execute_result"
    }
   ],
   "source": [
    "max(list4)"
   ]
  },
  {
   "cell_type": "code",
   "execution_count": 48,
   "id": "8ca75a45",
   "metadata": {},
   "outputs": [],
   "source": [
    "list6=[4,2,6,7,9,11,32,43,22,1,12,54,34,23]"
   ]
  },
  {
   "cell_type": "code",
   "execution_count": 47,
   "id": "c61afbf3",
   "metadata": {},
   "outputs": [
    {
     "data": {
      "text/plain": [
       "54"
      ]
     },
     "execution_count": 47,
     "metadata": {},
     "output_type": "execute_result"
    }
   ],
   "source": [
    "max(list6)"
   ]
  },
  {
   "cell_type": "code",
   "execution_count": 49,
   "id": "b557638e",
   "metadata": {},
   "outputs": [
    {
     "data": {
      "text/plain": [
       "1"
      ]
     },
     "execution_count": 49,
     "metadata": {},
     "output_type": "execute_result"
    }
   ],
   "source": [
    "min(list6)"
   ]
  },
  {
   "cell_type": "markdown",
   "id": "a0d8ddab",
   "metadata": {},
   "source": [
    "Python has a built in random library"
   ]
  },
  {
   "cell_type": "markdown",
   "id": "5607f39f",
   "metadata": {},
   "source": [
    "we can import this random or its functions to use them in our program"
   ]
  },
  {
   "cell_type": "code",
   "execution_count": 53,
   "id": "48ad51b1",
   "metadata": {},
   "outputs": [],
   "source": [
    "from random import shuffle"
   ]
  },
  {
   "cell_type": "code",
   "execution_count": 54,
   "id": "c02166b9",
   "metadata": {},
   "outputs": [],
   "source": [
    "shuffle(list6)"
   ]
  },
  {
   "cell_type": "code",
   "execution_count": 55,
   "id": "622e6e61",
   "metadata": {},
   "outputs": [
    {
     "data": {
      "text/plain": [
       "[34, 11, 23, 7, 43, 12, 22, 54, 9, 1, 6, 4, 2, 32]"
      ]
     },
     "execution_count": 55,
     "metadata": {},
     "output_type": "execute_result"
    }
   ],
   "source": [
    "list6"
   ]
  },
  {
   "cell_type": "code",
   "execution_count": 56,
   "id": "e6f67f11",
   "metadata": {},
   "outputs": [],
   "source": [
    "shuffle(list6)"
   ]
  },
  {
   "cell_type": "code",
   "execution_count": 57,
   "id": "324dbcc2",
   "metadata": {},
   "outputs": [
    {
     "data": {
      "text/plain": [
       "[2, 32, 23, 4, 54, 22, 6, 11, 34, 1, 43, 12, 7, 9]"
      ]
     },
     "execution_count": 57,
     "metadata": {},
     "output_type": "execute_result"
    }
   ],
   "source": [
    "list6"
   ]
  },
  {
   "cell_type": "code",
   "execution_count": 58,
   "id": "c3b23ad8",
   "metadata": {},
   "outputs": [],
   "source": [
    "from random import randint"
   ]
  },
  {
   "cell_type": "code",
   "execution_count": 59,
   "id": "09d22b6c",
   "metadata": {},
   "outputs": [
    {
     "data": {
      "text/plain": [
       "40"
      ]
     },
     "execution_count": 59,
     "metadata": {},
     "output_type": "execute_result"
    }
   ],
   "source": [
    "randint(10,100)"
   ]
  },
  {
   "cell_type": "code",
   "execution_count": 60,
   "id": "eb0dfeae",
   "metadata": {},
   "outputs": [
    {
     "data": {
      "text/plain": [
       "58"
      ]
     },
     "execution_count": 60,
     "metadata": {},
     "output_type": "execute_result"
    }
   ],
   "source": [
    "randint(10,100)"
   ]
  },
  {
   "cell_type": "code",
   "execution_count": 61,
   "id": "5875ed5a",
   "metadata": {},
   "outputs": [
    {
     "data": {
      "text/plain": [
       "17"
      ]
     },
     "execution_count": 61,
     "metadata": {},
     "output_type": "execute_result"
    }
   ],
   "source": [
    "randint(10,100)"
   ]
  },
  {
   "cell_type": "code",
   "execution_count": 62,
   "id": "2e76de59",
   "metadata": {},
   "outputs": [
    {
     "data": {
      "text/plain": [
       "4"
      ]
     },
     "execution_count": 62,
     "metadata": {},
     "output_type": "execute_result"
    }
   ],
   "source": [
    "randint(0,10)"
   ]
  },
  {
   "cell_type": "code",
   "execution_count": 63,
   "id": "b2661ced",
   "metadata": {},
   "outputs": [
    {
     "data": {
      "text/plain": [
       "8"
      ]
     },
     "execution_count": 63,
     "metadata": {},
     "output_type": "execute_result"
    }
   ],
   "source": [
    "randint(0,10)"
   ]
  },
  {
   "cell_type": "markdown",
   "id": "6d8b37ec",
   "metadata": {},
   "source": [
    "**Input function to take input from user**"
   ]
  },
  {
   "cell_type": "code",
   "execution_count": 68,
   "id": "5e9f4b0d",
   "metadata": {},
   "outputs": [
    {
     "name": "stdout",
     "output_type": "stream",
     "text": [
      "what is your name?\n"
     ]
    }
   ],
   "source": [
    "name= input(\"what is your name?\")"
   ]
  },
  {
   "cell_type": "code",
   "execution_count": 65,
   "id": "b394c948",
   "metadata": {},
   "outputs": [
    {
     "data": {
      "text/plain": [
       "'Harshit Shankhdhar'"
      ]
     },
     "execution_count": 65,
     "metadata": {},
     "output_type": "execute_result"
    }
   ],
   "source": [
    "name"
   ]
  },
  {
   "cell_type": "code",
   "execution_count": 69,
   "id": "f08eb2f8",
   "metadata": {},
   "outputs": [
    {
     "name": "stdout",
     "output_type": "stream",
     "text": [
      "what is your favourite number?69\n"
     ]
    }
   ],
   "source": [
    "num= input('what is your favourite number?')"
   ]
  },
  {
   "cell_type": "code",
   "execution_count": 70,
   "id": "b0034c96",
   "metadata": {},
   "outputs": [
    {
     "data": {
      "text/plain": [
       "'69'"
      ]
     },
     "execution_count": 70,
     "metadata": {},
     "output_type": "execute_result"
    }
   ],
   "source": [
    "num"
   ]
  },
  {
   "cell_type": "markdown",
   "id": "618078a3",
   "metadata": {},
   "source": [
    "**NOTE:** input function accepts input as string type"
   ]
  },
  {
   "cell_type": "code",
   "execution_count": null,
   "id": "20b5e78a",
   "metadata": {},
   "outputs": [],
   "source": []
  }
 ],
 "metadata": {
  "kernelspec": {
   "display_name": "Python 3",
   "language": "python",
   "name": "python3"
  },
  "language_info": {
   "codemirror_mode": {
    "name": "ipython",
    "version": 3
   },
   "file_extension": ".py",
   "mimetype": "text/x-python",
   "name": "python",
   "nbconvert_exporter": "python",
   "pygments_lexer": "ipython3",
   "version": "3.8.8"
  }
 },
 "nbformat": 4,
 "nbformat_minor": 5
}
