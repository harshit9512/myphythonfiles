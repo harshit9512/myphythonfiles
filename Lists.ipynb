{
 "cells": [
  {
   "cell_type": "markdown",
   "id": "0623aaec",
   "metadata": {},
   "source": [
    "LISTS ARE MUTABLE"
   ]
  },
  {
   "cell_type": "markdown",
   "id": "249c1c7b",
   "metadata": {},
   "source": [
    "mylist=[2,1.2,'word']"
   ]
  },
  {
   "cell_type": "code",
   "execution_count": 8,
   "id": "dcd24295",
   "metadata": {},
   "outputs": [
    {
     "data": {
      "text/plain": [
       "[2, 1.2, 'word']"
      ]
     },
     "execution_count": 8,
     "metadata": {},
     "output_type": "execute_result"
    }
   ],
   "source": [
    "mylist"
   ]
  },
  {
   "cell_type": "code",
   "execution_count": 9,
   "id": "c525ae52",
   "metadata": {},
   "outputs": [],
   "source": [
    "mylist.append(4)"
   ]
  },
  {
   "cell_type": "code",
   "execution_count": 11,
   "id": "e2ee9f0b",
   "metadata": {},
   "outputs": [
    {
     "data": {
      "text/plain": [
       "[2, 1.2, 'word', 4]"
      ]
     },
     "execution_count": 11,
     "metadata": {},
     "output_type": "execute_result"
    }
   ],
   "source": [
    "mylist"
   ]
  },
  {
   "cell_type": "code",
   "execution_count": 13,
   "id": "6a6f4c32",
   "metadata": {},
   "outputs": [],
   "source": [
    "newlist=[4,2,56,22,43,7,444]"
   ]
  },
  {
   "cell_type": "code",
   "execution_count": 14,
   "id": "caf57844",
   "metadata": {},
   "outputs": [
    {
     "data": {
      "text/plain": [
       "[4, 2, 56, 22, 43, 7, 444]"
      ]
     },
     "execution_count": 14,
     "metadata": {},
     "output_type": "execute_result"
    }
   ],
   "source": [
    "newlist"
   ]
  },
  {
   "cell_type": "code",
   "execution_count": 15,
   "id": "4f07bdc5",
   "metadata": {},
   "outputs": [],
   "source": [
    "newlist.sort()"
   ]
  },
  {
   "cell_type": "code",
   "execution_count": 16,
   "id": "50955a0e",
   "metadata": {},
   "outputs": [
    {
     "data": {
      "text/plain": [
       "[2, 4, 7, 22, 43, 56, 444]"
      ]
     },
     "execution_count": 16,
     "metadata": {},
     "output_type": "execute_result"
    }
   ],
   "source": [
    "newlist"
   ]
  },
  {
   "cell_type": "code",
   "execution_count": 17,
   "id": "671c955a",
   "metadata": {},
   "outputs": [
    {
     "data": {
      "text/plain": [
       "444"
      ]
     },
     "execution_count": 17,
     "metadata": {},
     "output_type": "execute_result"
    }
   ],
   "source": [
    "newlist.pop()"
   ]
  },
  {
   "cell_type": "code",
   "execution_count": 18,
   "id": "63701bf4",
   "metadata": {},
   "outputs": [
    {
     "data": {
      "text/plain": [
       "[2, 4, 7, 22, 43, 56]"
      ]
     },
     "execution_count": 18,
     "metadata": {},
     "output_type": "execute_result"
    }
   ],
   "source": [
    "newlist"
   ]
  },
  {
   "cell_type": "code",
   "execution_count": 19,
   "id": "8067dbc2",
   "metadata": {},
   "outputs": [],
   "source": [
    "newlist.append(123)"
   ]
  },
  {
   "cell_type": "code",
   "execution_count": 20,
   "id": "d21d3885",
   "metadata": {},
   "outputs": [
    {
     "data": {
      "text/plain": [
       "[2, 4, 7, 22, 43, 56, 123]"
      ]
     },
     "execution_count": 20,
     "metadata": {},
     "output_type": "execute_result"
    }
   ],
   "source": [
    "newlist"
   ]
  },
  {
   "cell_type": "code",
   "execution_count": 21,
   "id": "7342fef8",
   "metadata": {},
   "outputs": [],
   "source": [
    "popped_item=newlist.pop()"
   ]
  },
  {
   "cell_type": "code",
   "execution_count": 23,
   "id": "a237ce1e",
   "metadata": {},
   "outputs": [
    {
     "data": {
      "text/plain": [
       "123"
      ]
     },
     "execution_count": 23,
     "metadata": {},
     "output_type": "execute_result"
    }
   ],
   "source": [
    "popped_item"
   ]
  },
  {
   "cell_type": "code",
   "execution_count": 24,
   "id": "f5a723c1",
   "metadata": {},
   "outputs": [],
   "source": [
    "newlist.reverse()"
   ]
  },
  {
   "cell_type": "code",
   "execution_count": 25,
   "id": "ecb65f5e",
   "metadata": {},
   "outputs": [
    {
     "data": {
      "text/plain": [
       "[56, 43, 22, 7, 4, 2]"
      ]
     },
     "execution_count": 25,
     "metadata": {},
     "output_type": "execute_result"
    }
   ],
   "source": [
    "newlist"
   ]
  },
  {
   "cell_type": "code",
   "execution_count": 27,
   "id": "858ca897",
   "metadata": {},
   "outputs": [
    {
     "data": {
      "text/plain": [
       "1"
      ]
     },
     "execution_count": 27,
     "metadata": {},
     "output_type": "execute_result"
    }
   ],
   "source": [
    "newlist.count(4)"
   ]
  },
  {
   "cell_type": "code",
   "execution_count": 28,
   "id": "44993686",
   "metadata": {},
   "outputs": [],
   "source": [
    "newlist_copy=newlist.copy()"
   ]
  },
  {
   "cell_type": "code",
   "execution_count": 29,
   "id": "20df1604",
   "metadata": {},
   "outputs": [
    {
     "data": {
      "text/plain": [
       "[56, 43, 22, 7, 4, 2]"
      ]
     },
     "execution_count": 29,
     "metadata": {},
     "output_type": "execute_result"
    }
   ],
   "source": [
    "newlist_copy"
   ]
  },
  {
   "cell_type": "code",
   "execution_count": 30,
   "id": "e822aeec",
   "metadata": {},
   "outputs": [],
   "source": [
    "newlist.reverse()"
   ]
  },
  {
   "cell_type": "code",
   "execution_count": 31,
   "id": "e57bd470",
   "metadata": {},
   "outputs": [],
   "source": [
    "newlist.append(66)"
   ]
  },
  {
   "cell_type": "code",
   "execution_count": 32,
   "id": "94c9a9d4",
   "metadata": {},
   "outputs": [
    {
     "data": {
      "text/plain": [
       "[2, 4, 7, 22, 43, 56, 66]"
      ]
     },
     "execution_count": 32,
     "metadata": {},
     "output_type": "execute_result"
    }
   ],
   "source": [
    "newlist"
   ]
  },
  {
   "cell_type": "code",
   "execution_count": 33,
   "id": "8b16da28",
   "metadata": {},
   "outputs": [],
   "source": [
    "added_list=newlist+newlist_copy"
   ]
  },
  {
   "cell_type": "code",
   "execution_count": 35,
   "id": "7ba439f2",
   "metadata": {},
   "outputs": [
    {
     "data": {
      "text/plain": [
       "[2, 4, 7, 22, 43, 56, 66, 56, 43, 22, 7, 4, 2]"
      ]
     },
     "execution_count": 35,
     "metadata": {},
     "output_type": "execute_result"
    }
   ],
   "source": [
    "added_list"
   ]
  },
  {
   "cell_type": "code",
   "execution_count": 36,
   "id": "d62d536c",
   "metadata": {},
   "outputs": [],
   "source": [
    "mega_list=added_list+mylist"
   ]
  },
  {
   "cell_type": "code",
   "execution_count": 37,
   "id": "99a89bc4",
   "metadata": {},
   "outputs": [
    {
     "data": {
      "text/plain": [
       "[2, 4, 7, 22, 43, 56, 66, 56, 43, 22, 7, 4, 2, 2, 1.2, 'word', 4]"
      ]
     },
     "execution_count": 37,
     "metadata": {},
     "output_type": "execute_result"
    }
   ],
   "source": [
    "mega_list"
   ]
  },
  {
   "cell_type": "markdown",
   "id": "a06eb218",
   "metadata": {},
   "source": [
    "Indexing and slicing in lists"
   ]
  },
  {
   "cell_type": "code",
   "execution_count": 40,
   "id": "b1797d97",
   "metadata": {},
   "outputs": [
    {
     "data": {
      "text/plain": [
       "66"
      ]
     },
     "execution_count": 40,
     "metadata": {},
     "output_type": "execute_result"
    }
   ],
   "source": [
    "mega_list[6]"
   ]
  },
  {
   "cell_type": "code",
   "execution_count": 41,
   "id": "fe8e8452",
   "metadata": {},
   "outputs": [
    {
     "data": {
      "text/plain": [
       "'word'"
      ]
     },
     "execution_count": 41,
     "metadata": {},
     "output_type": "execute_result"
    }
   ],
   "source": [
    "mega_list[-2]"
   ]
  },
  {
   "cell_type": "code",
   "execution_count": 42,
   "id": "0bf4ea3b",
   "metadata": {},
   "outputs": [
    {
     "data": {
      "text/plain": [
       "[66, 56, 43, 22, 7, 4, 2, 2, 1.2, 'word', 4]"
      ]
     },
     "execution_count": 42,
     "metadata": {},
     "output_type": "execute_result"
    }
   ],
   "source": [
    "mega_list[6:]"
   ]
  },
  {
   "cell_type": "code",
   "execution_count": 44,
   "id": "9ba76d06",
   "metadata": {},
   "outputs": [
    {
     "data": {
      "text/plain": [
       "[43, 56, 66, 56, 43, 22]"
      ]
     },
     "execution_count": 44,
     "metadata": {},
     "output_type": "execute_result"
    }
   ],
   "source": [
    "mega_list[4:10]"
   ]
  },
  {
   "cell_type": "code",
   "execution_count": 46,
   "id": "eaf3675a",
   "metadata": {},
   "outputs": [
    {
     "data": {
      "text/plain": [
       "[2, 7, 43, 66, 43, 7, 2]"
      ]
     },
     "execution_count": 46,
     "metadata": {},
     "output_type": "execute_result"
    }
   ],
   "source": [
    "mega_list[:13:2]"
   ]
  },
  {
   "cell_type": "code",
   "execution_count": 47,
   "id": "6bb807a0",
   "metadata": {},
   "outputs": [
    {
     "data": {
      "text/plain": [
       "[2, 4, 7, 22, 43, 56, 66, 56, 43, 22, 7, 4, 2, 2, 1.2, 'word', 4]"
      ]
     },
     "execution_count": 47,
     "metadata": {},
     "output_type": "execute_result"
    }
   ],
   "source": [
    "mega_list"
   ]
  },
  {
   "cell_type": "code",
   "execution_count": 49,
   "id": "89a5bcfb",
   "metadata": {},
   "outputs": [
    {
     "data": {
      "text/plain": [
       "[4, 'word', 1.2, 2, 2, 4, 7, 22, 43, 56, 66, 56, 43, 22, 7, 4, 2]"
      ]
     },
     "execution_count": 49,
     "metadata": {},
     "output_type": "execute_result"
    }
   ],
   "source": [
    "mega_list[::-1]"
   ]
  },
  {
   "cell_type": "code",
   "execution_count": 54,
   "id": "c28944d2",
   "metadata": {},
   "outputs": [
    {
     "data": {
      "text/plain": [
       "[7, 22, 43, 56, 66, 56, 43, 22, 7, 4, 2, 2, 1.2, 'word', 4]"
      ]
     },
     "execution_count": 54,
     "metadata": {},
     "output_type": "execute_result"
    }
   ],
   "source": [
    "mega_list"
   ]
  },
  {
   "cell_type": "code",
   "execution_count": 55,
   "id": "44b9581c",
   "metadata": {},
   "outputs": [],
   "source": [
    "mega_list.reverse()"
   ]
  },
  {
   "cell_type": "code",
   "execution_count": 56,
   "id": "38bbb06f",
   "metadata": {},
   "outputs": [
    {
     "data": {
      "text/plain": [
       "[4, 'word', 1.2, 2, 2, 4, 7, 22, 43, 56, 66, 56, 43, 22, 7]"
      ]
     },
     "execution_count": 56,
     "metadata": {},
     "output_type": "execute_result"
    }
   ],
   "source": [
    "mega_list"
   ]
  },
  {
   "cell_type": "code",
   "execution_count": 57,
   "id": "cbc06cf3",
   "metadata": {},
   "outputs": [],
   "source": [
    "popped_item=mega_list.pop(1)"
   ]
  },
  {
   "cell_type": "code",
   "execution_count": 58,
   "id": "f7958edf",
   "metadata": {},
   "outputs": [
    {
     "data": {
      "text/plain": [
       "'word'"
      ]
     },
     "execution_count": 58,
     "metadata": {},
     "output_type": "execute_result"
    }
   ],
   "source": [
    "popped_item"
   ]
  },
  {
   "cell_type": "markdown",
   "id": "a3684379",
   "metadata": {},
   "source": [
    "WE CAN ASSIGN A DIFFERENT VALUE TO ANY LIST INDEX UNLIKE IN STRINGS"
   ]
  },
  {
   "cell_type": "code",
   "execution_count": 59,
   "id": "0ee5023c",
   "metadata": {},
   "outputs": [],
   "source": [
    "mega_list[0]='new word'"
   ]
  },
  {
   "cell_type": "code",
   "execution_count": 60,
   "id": "c9de7648",
   "metadata": {},
   "outputs": [
    {
     "data": {
      "text/plain": [
       "['new word', 1.2, 2, 2, 4, 7, 22, 43, 56, 66, 56, 43, 22, 7]"
      ]
     },
     "execution_count": 60,
     "metadata": {},
     "output_type": "execute_result"
    }
   ],
   "source": [
    "mega_list"
   ]
  },
  {
   "cell_type": "code",
   "execution_count": 61,
   "id": "7ee68b42",
   "metadata": {},
   "outputs": [
    {
     "data": {
      "text/plain": [
       "14"
      ]
     },
     "execution_count": 61,
     "metadata": {},
     "output_type": "execute_result"
    }
   ],
   "source": [
    "len(mega_list)"
   ]
  },
  {
   "cell_type": "markdown",
   "id": "252f02b0",
   "metadata": {},
   "source": [
    "NESTED LISTS"
   ]
  },
  {
   "cell_type": "code",
   "execution_count": 62,
   "id": "35a5448c",
   "metadata": {},
   "outputs": [],
   "source": [
    "nest_list=[1,'two',[2,3]]"
   ]
  },
  {
   "cell_type": "code",
   "execution_count": 63,
   "id": "7a16ade2",
   "metadata": {},
   "outputs": [
    {
     "data": {
      "text/plain": [
       "'two'"
      ]
     },
     "execution_count": 63,
     "metadata": {},
     "output_type": "execute_result"
    }
   ],
   "source": [
    "nest_list[1]"
   ]
  },
  {
   "cell_type": "code",
   "execution_count": 64,
   "id": "4b919589",
   "metadata": {},
   "outputs": [
    {
     "data": {
      "text/plain": [
       "[2, 3]"
      ]
     },
     "execution_count": 64,
     "metadata": {},
     "output_type": "execute_result"
    }
   ],
   "source": [
    "nest_list[2]"
   ]
  },
  {
   "cell_type": "code",
   "execution_count": 65,
   "id": "dd855bf3",
   "metadata": {},
   "outputs": [
    {
     "data": {
      "text/plain": [
       "2"
      ]
     },
     "execution_count": 65,
     "metadata": {},
     "output_type": "execute_result"
    }
   ],
   "source": [
    "nest_list[2][0]"
   ]
  },
  {
   "cell_type": "code",
   "execution_count": 66,
   "id": "b9ee3faf",
   "metadata": {},
   "outputs": [
    {
     "data": {
      "text/plain": [
       "3"
      ]
     },
     "execution_count": 66,
     "metadata": {},
     "output_type": "execute_result"
    }
   ],
   "source": [
    "nest_list[2][1]"
   ]
  },
  {
   "cell_type": "code",
   "execution_count": null,
   "id": "8214cf54",
   "metadata": {},
   "outputs": [],
   "source": []
  }
 ],
 "metadata": {
  "kernelspec": {
   "display_name": "Python 3",
   "language": "python",
   "name": "python3"
  },
  "language_info": {
   "codemirror_mode": {
    "name": "ipython",
    "version": 3
   },
   "file_extension": ".py",
   "mimetype": "text/x-python",
   "name": "python",
   "nbconvert_exporter": "python",
   "pygments_lexer": "ipython3",
   "version": "3.8.8"
  }
 },
 "nbformat": 4,
 "nbformat_minor": 5
}
