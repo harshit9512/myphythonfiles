{
 "cells": [
  {
   "cell_type": "code",
   "execution_count": 1,
   "id": "2bad66b4",
   "metadata": {},
   "outputs": [],
   "source": [
    "x=5"
   ]
  },
  {
   "cell_type": "code",
   "execution_count": 2,
   "id": "7dfca861",
   "metadata": {},
   "outputs": [],
   "source": [
    "y=8"
   ]
  },
  {
   "cell_type": "code",
   "execution_count": 9,
   "id": "35dadfb5",
   "metadata": {},
   "outputs": [
    {
     "name": "stdout",
     "output_type": "stream",
     "text": [
      "x is equal to 5\n"
     ]
    }
   ],
   "source": [
    "if x==5:\n",
    "    print(f\"x is equal to {x}\")"
   ]
  },
  {
   "cell_type": "code",
   "execution_count": 12,
   "id": "58c7f0ca",
   "metadata": {},
   "outputs": [
    {
     "name": "stdout",
     "output_type": "stream",
     "text": [
      "y is equal to 8\n"
     ]
    }
   ],
   "source": [
    "if y<9:\n",
    "    print(f\"y is equal to {y}\")"
   ]
  },
  {
   "cell_type": "code",
   "execution_count": 14,
   "id": "45473dcc",
   "metadata": {},
   "outputs": [
    {
     "name": "stdout",
     "output_type": "stream",
     "text": [
      "y is greater than 6\n"
     ]
    }
   ],
   "source": [
    "if y<6:\n",
    "    print(\"y is less than 6\")\n",
    "elif y>6:\n",
    "    print(\"y is greater than 6\")\n",
    "else:\n",
    "    print(\"y is equal to 6\")"
   ]
  },
  {
   "cell_type": "code",
   "execution_count": 18,
   "id": "683a7aaf",
   "metadata": {},
   "outputs": [
    {
     "data": {
      "text/plain": [
       "True"
      ]
     },
     "execution_count": 18,
     "metadata": {},
     "output_type": "execute_result"
    }
   ],
   "source": [
    "2==2"
   ]
  },
  {
   "cell_type": "code",
   "execution_count": 19,
   "id": "89c39f90",
   "metadata": {},
   "outputs": [],
   "source": [
    "sahi=True"
   ]
  },
  {
   "cell_type": "code",
   "execution_count": 20,
   "id": "18340cbe",
   "metadata": {},
   "outputs": [],
   "source": [
    "galat=False"
   ]
  },
  {
   "cell_type": "markdown",
   "id": "2b8c2ec7",
   "metadata": {},
   "source": [
    "By default a condition is True\n",
    "    "
   ]
  },
  {
   "cell_type": "code",
   "execution_count": 21,
   "id": "f149cc18",
   "metadata": {},
   "outputs": [
    {
     "name": "stdout",
     "output_type": "stream",
     "text": [
      "sahi hai\n"
     ]
    }
   ],
   "source": [
    "if sahi:\n",
    "    print(\"sahi hai\")"
   ]
  },
  {
   "cell_type": "code",
   "execution_count": 25,
   "id": "8b9e0777",
   "metadata": {},
   "outputs": [
    {
     "name": "stdout",
     "output_type": "stream",
     "text": [
      "ye bhi sahi hai\n"
     ]
    }
   ],
   "source": [
    "if galat:\n",
    "    print(\"galat hai\")\n",
    "else:\n",
    "    print(\"ye bhi sahi hai\")"
   ]
  },
  {
   "cell_type": "code",
   "execution_count": null,
   "id": "62d07ae4",
   "metadata": {},
   "outputs": [],
   "source": []
  }
 ],
 "metadata": {
  "kernelspec": {
   "display_name": "Python 3",
   "language": "python",
   "name": "python3"
  },
  "language_info": {
   "codemirror_mode": {
    "name": "ipython",
    "version": 3
   },
   "file_extension": ".py",
   "mimetype": "text/x-python",
   "name": "python",
   "nbconvert_exporter": "python",
   "pygments_lexer": "ipython3",
   "version": "3.8.8"
  }
 },
 "nbformat": 4,
 "nbformat_minor": 5
}
